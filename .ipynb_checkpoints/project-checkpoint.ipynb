{
 "cells": [
  {
   "cell_type": "code",
   "execution_count": 1,
   "metadata": {
    "collapsed": true
   },
   "outputs": [],
   "source": [
    "import os\n",
    "import pandas as pd"
   ]
  },
  {
   "cell_type": "code",
   "execution_count": 2,
   "metadata": {
    "collapsed": false
   },
   "outputs": [
    {
     "data": {
      "text/plain": [
       "(214195, 17)"
      ]
     },
     "execution_count": 2,
     "metadata": {},
     "output_type": "execute_result"
    }
   ],
   "source": [
    "with open(\"res.json\") as file:\n",
    "    data = pd.read_json(file)\n",
    "data.shape"
   ]
  },
  {
   "cell_type": "code",
   "execution_count": 3,
   "metadata": {
    "collapsed": false
   },
   "outputs": [
    {
     "data": {
      "text/html": [
       "<div>\n",
       "<table border=\"1\" class=\"dataframe\">\n",
       "  <thead>\n",
       "    <tr style=\"text-align: right;\">\n",
       "      <th></th>\n",
       "      <th>asin</th>\n",
       "      <th>brand</th>\n",
       "      <th>categories</th>\n",
       "      <th>description</th>\n",
       "      <th>helpful</th>\n",
       "      <th>imUrl</th>\n",
       "      <th>overall</th>\n",
       "      <th>price</th>\n",
       "      <th>related</th>\n",
       "      <th>reviewText</th>\n",
       "      <th>reviewTime</th>\n",
       "      <th>reviewerID</th>\n",
       "      <th>reviewerName</th>\n",
       "      <th>salesRank</th>\n",
       "      <th>summary</th>\n",
       "      <th>title</th>\n",
       "      <th>unixReviewTime</th>\n",
       "    </tr>\n",
       "  </thead>\n",
       "  <tbody>\n",
       "    <tr>\n",
       "      <th>0</th>\n",
       "      <td>B000FAXYXK</td>\n",
       "      <td>Weleda</td>\n",
       "      <td>[[Health &amp; Personal Care, Personal Care, Deodo...</td>\n",
       "      <td>Deodorant-Citrus Spray Small by Weleda 1 oz Sp...</td>\n",
       "      <td>[0, 0]</td>\n",
       "      <td>http://ecx.images-amazon.com/images/I/21JrH-BE...</td>\n",
       "      <td>4</td>\n",
       "      <td>9.68</td>\n",
       "      <td>{'bought_together': ['B000S6O92G', 'B000ORWOVW...</td>\n",
       "      <td>Since switching from my old deodorant/antipers...</td>\n",
       "      <td>04 23, 2014</td>\n",
       "      <td>A3MKWDCAYH29NS</td>\n",
       "      <td>redheadsread \"Shannon\"</td>\n",
       "      <td>{'Health &amp; Personal Care': 70112}</td>\n",
       "      <td>Not a bad natural option</td>\n",
       "      <td>Deodorant-Citrus Spray Small Weleda 1 oz Spray</td>\n",
       "      <td>1398211200</td>\n",
       "    </tr>\n",
       "    <tr>\n",
       "      <th>1</th>\n",
       "      <td>B000FAXYXK</td>\n",
       "      <td>Weleda</td>\n",
       "      <td>[[Health &amp; Personal Care, Personal Care, Deodo...</td>\n",
       "      <td>Deodorant-Citrus Spray Small by Weleda 1 oz Sp...</td>\n",
       "      <td>[4, 5]</td>\n",
       "      <td>http://ecx.images-amazon.com/images/I/21JrH-BE...</td>\n",
       "      <td>5</td>\n",
       "      <td>9.68</td>\n",
       "      <td>{'bought_together': ['B000S6O92G', 'B000ORWOVW...</td>\n",
       "      <td>I purchased this in the small size so I could ...</td>\n",
       "      <td>11 24, 2006</td>\n",
       "      <td>A1IEE6H6JJ10B5</td>\n",
       "      <td>Happy Wife</td>\n",
       "      <td>{'Health &amp; Personal Care': 70112}</td>\n",
       "      <td>A wonderful alternative to chemical deodorants!</td>\n",
       "      <td>Deodorant-Citrus Spray Small Weleda 1 oz Spray</td>\n",
       "      <td>1164326400</td>\n",
       "    </tr>\n",
       "    <tr>\n",
       "      <th>2</th>\n",
       "      <td>B000FAXYXK</td>\n",
       "      <td>Weleda</td>\n",
       "      <td>[[Health &amp; Personal Care, Personal Care, Deodo...</td>\n",
       "      <td>Deodorant-Citrus Spray Small by Weleda 1 oz Sp...</td>\n",
       "      <td>[1, 1]</td>\n",
       "      <td>http://ecx.images-amazon.com/images/I/21JrH-BE...</td>\n",
       "      <td>5</td>\n",
       "      <td>9.68</td>\n",
       "      <td>{'bought_together': ['B000S6O92G', 'B000ORWOVW...</td>\n",
       "      <td>I also purchased the small bottle to try.  Exc...</td>\n",
       "      <td>05 30, 2012</td>\n",
       "      <td>A7EIQ8ZW6D8N</td>\n",
       "      <td>Amazon Customer</td>\n",
       "      <td>{'Health &amp; Personal Care': 70112}</td>\n",
       "      <td>Best deodorant ever tried</td>\n",
       "      <td>Deodorant-Citrus Spray Small Weleda 1 oz Spray</td>\n",
       "      <td>1338336000</td>\n",
       "    </tr>\n",
       "    <tr>\n",
       "      <th>3</th>\n",
       "      <td>B000FAXYXK</td>\n",
       "      <td>Weleda</td>\n",
       "      <td>[[Health &amp; Personal Care, Personal Care, Deodo...</td>\n",
       "      <td>Deodorant-Citrus Spray Small by Weleda 1 oz Sp...</td>\n",
       "      <td>[0, 0]</td>\n",
       "      <td>http://ecx.images-amazon.com/images/I/21JrH-BE...</td>\n",
       "      <td>5</td>\n",
       "      <td>9.68</td>\n",
       "      <td>{'bought_together': ['B000S6O92G', 'B000ORWOVW...</td>\n",
       "      <td>I love the smell of anything &amp; everything citr...</td>\n",
       "      <td>03 19, 2014</td>\n",
       "      <td>A1OJBM7CAYW0SU</td>\n",
       "      <td>Kaytie</td>\n",
       "      <td>{'Health &amp; Personal Care': 70112}</td>\n",
       "      <td>Love the Citrus Smell!!</td>\n",
       "      <td>Deodorant-Citrus Spray Small Weleda 1 oz Spray</td>\n",
       "      <td>1395187200</td>\n",
       "    </tr>\n",
       "    <tr>\n",
       "      <th>4</th>\n",
       "      <td>B000FAXYXK</td>\n",
       "      <td>Weleda</td>\n",
       "      <td>[[Health &amp; Personal Care, Personal Care, Deodo...</td>\n",
       "      <td>Deodorant-Citrus Spray Small by Weleda 1 oz Sp...</td>\n",
       "      <td>[0, 0]</td>\n",
       "      <td>http://ecx.images-amazon.com/images/I/21JrH-BE...</td>\n",
       "      <td>4</td>\n",
       "      <td>9.68</td>\n",
       "      <td>{'bought_together': ['B000S6O92G', 'B000ORWOVW...</td>\n",
       "      <td>I am always looking for an alternative to alum...</td>\n",
       "      <td>04 29, 2013</td>\n",
       "      <td>AR0OE2OBOC505</td>\n",
       "      <td>drewdledad</td>\n",
       "      <td>{'Health &amp; Personal Care': 70112}</td>\n",
       "      <td>Weleda deodorant</td>\n",
       "      <td>Deodorant-Citrus Spray Small Weleda 1 oz Spray</td>\n",
       "      <td>1367193600</td>\n",
       "    </tr>\n",
       "  </tbody>\n",
       "</table>\n",
       "</div>"
      ],
      "text/plain": [
       "         asin   brand                                         categories  \\\n",
       "0  B000FAXYXK  Weleda  [[Health & Personal Care, Personal Care, Deodo...   \n",
       "1  B000FAXYXK  Weleda  [[Health & Personal Care, Personal Care, Deodo...   \n",
       "2  B000FAXYXK  Weleda  [[Health & Personal Care, Personal Care, Deodo...   \n",
       "3  B000FAXYXK  Weleda  [[Health & Personal Care, Personal Care, Deodo...   \n",
       "4  B000FAXYXK  Weleda  [[Health & Personal Care, Personal Care, Deodo...   \n",
       "\n",
       "                                         description helpful  \\\n",
       "0  Deodorant-Citrus Spray Small by Weleda 1 oz Sp...  [0, 0]   \n",
       "1  Deodorant-Citrus Spray Small by Weleda 1 oz Sp...  [4, 5]   \n",
       "2  Deodorant-Citrus Spray Small by Weleda 1 oz Sp...  [1, 1]   \n",
       "3  Deodorant-Citrus Spray Small by Weleda 1 oz Sp...  [0, 0]   \n",
       "4  Deodorant-Citrus Spray Small by Weleda 1 oz Sp...  [0, 0]   \n",
       "\n",
       "                                               imUrl  overall  price  \\\n",
       "0  http://ecx.images-amazon.com/images/I/21JrH-BE...        4   9.68   \n",
       "1  http://ecx.images-amazon.com/images/I/21JrH-BE...        5   9.68   \n",
       "2  http://ecx.images-amazon.com/images/I/21JrH-BE...        5   9.68   \n",
       "3  http://ecx.images-amazon.com/images/I/21JrH-BE...        5   9.68   \n",
       "4  http://ecx.images-amazon.com/images/I/21JrH-BE...        4   9.68   \n",
       "\n",
       "                                             related  \\\n",
       "0  {'bought_together': ['B000S6O92G', 'B000ORWOVW...   \n",
       "1  {'bought_together': ['B000S6O92G', 'B000ORWOVW...   \n",
       "2  {'bought_together': ['B000S6O92G', 'B000ORWOVW...   \n",
       "3  {'bought_together': ['B000S6O92G', 'B000ORWOVW...   \n",
       "4  {'bought_together': ['B000S6O92G', 'B000ORWOVW...   \n",
       "\n",
       "                                          reviewText   reviewTime  \\\n",
       "0  Since switching from my old deodorant/antipers...  04 23, 2014   \n",
       "1  I purchased this in the small size so I could ...  11 24, 2006   \n",
       "2  I also purchased the small bottle to try.  Exc...  05 30, 2012   \n",
       "3  I love the smell of anything & everything citr...  03 19, 2014   \n",
       "4  I am always looking for an alternative to alum...  04 29, 2013   \n",
       "\n",
       "       reviewerID            reviewerName                          salesRank  \\\n",
       "0  A3MKWDCAYH29NS  redheadsread \"Shannon\"  {'Health & Personal Care': 70112}   \n",
       "1  A1IEE6H6JJ10B5              Happy Wife  {'Health & Personal Care': 70112}   \n",
       "2    A7EIQ8ZW6D8N         Amazon Customer  {'Health & Personal Care': 70112}   \n",
       "3  A1OJBM7CAYW0SU                  Kaytie  {'Health & Personal Care': 70112}   \n",
       "4   AR0OE2OBOC505              drewdledad  {'Health & Personal Care': 70112}   \n",
       "\n",
       "                                           summary  \\\n",
       "0                         Not a bad natural option   \n",
       "1  A wonderful alternative to chemical deodorants!   \n",
       "2                        Best deodorant ever tried   \n",
       "3                          Love the Citrus Smell!!   \n",
       "4                                 Weleda deodorant   \n",
       "\n",
       "                                            title  unixReviewTime  \n",
       "0  Deodorant-Citrus Spray Small Weleda 1 oz Spray      1398211200  \n",
       "1  Deodorant-Citrus Spray Small Weleda 1 oz Spray      1164326400  \n",
       "2  Deodorant-Citrus Spray Small Weleda 1 oz Spray      1338336000  \n",
       "3  Deodorant-Citrus Spray Small Weleda 1 oz Spray      1395187200  \n",
       "4  Deodorant-Citrus Spray Small Weleda 1 oz Spray      1367193600  "
      ]
     },
     "execution_count": 3,
     "metadata": {},
     "output_type": "execute_result"
    }
   ],
   "source": [
    "data.head()"
   ]
  },
  {
   "cell_type": "code",
   "execution_count": 4,
   "metadata": {
    "collapsed": false
   },
   "outputs": [],
   "source": [
    "# categories are like [[Health & Personal Care,...]], we are making them be \"Health & Personal Care,...\" \n",
    "def convert_cat():\n",
    "    s = data[\"categories\"]\n",
    "    val = []\n",
    "    for l in list(s): val.append(\"\".join(l[0]))\n",
    "    s_new = pd.Series(val, s.index.values)\n",
    "    data[\"categories\"]=s_new\n",
    "convert_cat()"
   ]
  },
  {
   "cell_type": "markdown",
   "metadata": {},
   "source": [
    "In the next few cells delete products with same name as swiss brands, but they represent actually other brand."
   ]
  },
  {
   "cell_type": "code",
   "execution_count": 5,
   "metadata": {
    "collapsed": false
   },
   "outputs": [
    {
     "data": {
      "text/plain": [
       "(213914, 17)"
      ]
     },
     "execution_count": 5,
     "metadata": {},
     "output_type": "execute_result"
    }
   ],
   "source": [
    "data=data[data['brand']!=\"ABB\"]\n",
    "data=data[data['brand']!=\"Callebaut\"]\n",
    "data.shape"
   ]
  },
  {
   "cell_type": "code",
   "execution_count": 6,
   "metadata": {
    "collapsed": false,
    "scrolled": true
   },
   "outputs": [],
   "source": [
    "data=data[(data['brand']!=\"IWC\")|((data['brand']==\"IWC\") & \\\n",
    "                    ((data[\"categories\"]!=\"AutomotivePaint, Body & TrimBodyDoors\")& \\\n",
    "                                (data[\"categories\"]!='AutomotiveTires & WheelsAccessoriesCenter Caps')& \\\n",
    "                                    (data[\"categories\"]!='AutomotiveTires & WheelsHubcaps & CoversHubcaps')))]"
   ]
  },
  {
   "cell_type": "code",
   "execution_count": 7,
   "metadata": {
    "collapsed": true
   },
   "outputs": [],
   "source": [
    "data=data[(data['brand']!=\"Swatch\")|((data['brand']==\"Swatch\") & \\\n",
    "                    ((data[\"categories\"]!=\"Arts, Crafts & SewingFabric\")& \\\n",
    "                                    (data[\"categories\"]!='Arts, Crafts & SewingNeedleworkCross-StitchCounted Kits')))]"
   ]
  },
  {
   "cell_type": "code",
   "execution_count": 8,
   "metadata": {
    "collapsed": false
   },
   "outputs": [],
   "source": [
    "data=data[(data['brand']!=\"Sigg\")|((data['brand']==\"Sigg\") & \\\n",
    "                                    (data[\"categories\"]!='Office ProductsOffice & School SuppliesForms, Recordkeeping & Money HandlingMoney & Rent Receipts'))]"
   ]
  },
  {
   "cell_type": "code",
   "execution_count": 9,
   "metadata": {
    "collapsed": true
   },
   "outputs": [],
   "source": [
    "data=data[(data['brand']!=\"PB Swiss\")|((data['brand']==\"PB Swiss\") & \\\n",
    "                    ((data[\"categories\"]!=\"Clothing, Shoes & JewelryNovelty, Costumes & MoreNoveltyJewelryBracelets\")& \\\n",
    "                                (data[\"categories\"]!='Office ProductsOffice & School SuppliesCalendars, Planners & Personal OrganizersWall Calendars')& \\\n",
    "                                    (data[\"categories\"]!='Sports & OutdoorsAccessoriesWristbands')))]"
   ]
  },
  {
   "cell_type": "code",
   "execution_count": 10,
   "metadata": {
    "collapsed": false
   },
   "outputs": [],
   "source": [
    "data=data[(data['brand']!=\"Omega\")|((data['brand']==\"Omega\") & \\\n",
    "                    ((data[\"categories\"]==\"Clothing, Shoes & JewelryGifts\")| \\\n",
    "                    (data[\"categories\"]=='Clothing, Shoes & JewelryJewelry: International Shipping Available')| \\\n",
    "                    (data[\"categories\"]=='Clothing, Shoes & JewelryLuxury Watches')| \\\n",
    "                     (data[\"categories\"]=='Clothing, Shoes & JewelryNew Arrivals')| \\\n",
    "                     (data[\"categories\"]=='Clothing, Shoes & JewelryOmega Watches')| \\\n",
    "                     (data[\"categories\"]=='Sports & OutdoorsAccessoriesSport Watches')))]"
   ]
  },
  {
   "cell_type": "code",
   "execution_count": 11,
   "metadata": {
    "collapsed": false,
    "scrolled": true
   },
   "outputs": [
    {
     "data": {
      "text/plain": [
       "(207500, 17)"
      ]
     },
     "execution_count": 11,
     "metadata": {},
     "output_type": "execute_result"
    }
   ],
   "source": [
    "data.shape"
   ]
  },
  {
   "cell_type": "code",
   "execution_count": 20,
   "metadata": {
    "collapsed": false
   },
   "outputs": [
    {
     "name": "stdout",
     "output_type": "stream",
     "text": [
      "Weleda : count    2591.000000\n",
      "mean        4.399846\n",
      "std         1.096460\n",
      "min         1.000000\n",
      "25%         4.000000\n",
      "50%         5.000000\n",
      "75%         5.000000\n",
      "max         5.000000\n",
      "Name: overall, dtype: float64\n",
      "TAG Heuer : count    1405.000000\n",
      "mean        4.203559\n",
      "std         1.392333\n",
      "min         1.000000\n",
      "25%         4.000000\n",
      "50%         5.000000\n",
      "75%         5.000000\n",
      "max         5.000000\n",
      "Name: overall, dtype: float64\n",
      "Lindt : count    3875.000000\n",
      "mean        4.365419\n",
      "std         1.238532\n",
      "min         1.000000\n",
      "25%         4.000000\n",
      "50%         5.000000\n",
      "75%         5.000000\n",
      "max         5.000000\n",
      "Name: overall, dtype: float64\n",
      "Motorex : count    50.000000\n",
      "mean      4.620000\n",
      "std       0.830294\n",
      "min       1.000000\n",
      "25%       5.000000\n",
      "50%       5.000000\n",
      "75%       5.000000\n",
      "max       5.000000\n",
      "Name: overall, dtype: float64\n",
      "Nestle : count    2470.000000\n",
      "mean        4.236437\n",
      "std         1.253900\n",
      "min         1.000000\n",
      "25%         4.000000\n",
      "50%         5.000000\n",
      "75%         5.000000\n",
      "max         5.000000\n",
      "Name: overall, dtype: float64\n"
     ]
    }
   ],
   "source": [
    "#Make basic statistic of data according to brand\n",
    "brands = data[\"brand\"].drop_duplicates()\n",
    "grouped_data = data.groupby(\"brand\")\n",
    "s=[]\n",
    "for b in brands:\n",
    "    group_brand = grouped_data.get_group(b)\n",
    "    s.append(str(b)+ \" : \"+str(group_brand[\"overall\"].describe()))\n",
    "for i in range (5): print (s[i])"
   ]
  },
  {
   "cell_type": "code",
   "execution_count": 28,
   "metadata": {
    "collapsed": false
   },
   "outputs": [
    {
     "name": "stdout",
     "output_type": "stream",
     "text": [
      "Weleda, number of votes: 2591mean: 3.7203306830301837\n",
      "TAG Heuer, number of votes: 1405mean: 3.3690525559854927\n",
      "Lindt, number of votes: 3875mean: 3.777878599067091\n",
      "Motorex, number of votes: 50mean: 4.595\n",
      "Nestle, number of votes: 2470mean: 3.867964094063412\n"
     ]
    }
   ],
   "source": [
    "#make weighted statistic of data - take overall rate according to helpfulness (how helpful is rating and comment)\n",
    "s=[]\n",
    "for b in brands:\n",
    "    group_brand = grouped_data.get_group(b)\n",
    "    overall=[]\n",
    "    for index, row in group_brand.iterrows():\n",
    "        if row[\"helpful\"][1]!=0:\n",
    "            overall.append(row[\"overall\"]*(row[\"helpful\"][0]/row[\"helpful\"][1]))\n",
    "        else: overall.append(row[\"overall\"])\n",
    "    s.append(str(b)+\", number of votes: \"+str(len(group_brand))+ \", mean: \"+  str(sum(overall)/len(overall)))\n",
    "for i in range (5): print (s[i])"
   ]
  },
  {
   "cell_type": "code",
   "execution_count": 113,
   "metadata": {
    "collapsed": false,
    "scrolled": false
   },
   "outputs": [
    {
     "data": {
      "text/plain": [
       "{'Clothing, Shoes & JewelryGifts': 'B000EJPDOK',\n",
       " 'Clothing, Shoes & JewelryJewelry: International Shipping Available': 'B000BK96Q8',\n",
       " 'Clothing, Shoes & JewelryLuxury Watches': 'B0072C8LF0',\n",
       " 'Clothing, Shoes & JewelryNew Arrivals': 'B0014JI864',\n",
       " 'Clothing, Shoes & JewelryOmega Watches': 'B000M8UDES',\n",
       " 'Sports & OutdoorsAccessoriesSport Watches': 'B000NIFAVI'}"
      ]
     },
     "execution_count": 113,
     "metadata": {},
     "output_type": "execute_result"
    }
   ],
   "source": [
    "#this code is used to explore categories of brands\n",
    "values = list(grouped_data.get_group(\"Omega\")[\"categories\"])\n",
    "prod = {}\n",
    "for i,a in enumerate(values):\n",
    "    if not a in list(prod.keys()):\n",
    "        prod[a]=grouped_data.get_group(\"Omega\").iloc[i][\"asin\"]\n",
    "prod"
   ]
  },
  {
   "cell_type": "markdown",
   "metadata": {},
   "source": [
    "In the next cells basic statistic is done for each category."
   ]
  },
  {
   "cell_type": "code",
   "execution_count": 29,
   "metadata": {
    "collapsed": false
   },
   "outputs": [],
   "source": [
    "category_group = data.groupby(\"categories\")"
   ]
  },
  {
   "cell_type": "code",
   "execution_count": 32,
   "metadata": {
    "collapsed": false
   },
   "outputs": [
    {
     "ename": "KeyboardInterrupt",
     "evalue": "",
     "output_type": "error",
     "traceback": [
      "\u001b[1;31m---------------------------------------------------------------------------\u001b[0m",
      "\u001b[1;31mKeyboardInterrupt\u001b[0m                         Traceback (most recent call last)",
      "\u001b[1;32m<ipython-input-32-0f5faf0c8785>\u001b[0m in \u001b[0;36m<module>\u001b[1;34m()\u001b[0m\n\u001b[0;32m      3\u001b[0m     \u001b[0mgroup_cat\u001b[0m \u001b[1;33m=\u001b[0m \u001b[0mcategory_group\u001b[0m\u001b[1;33m.\u001b[0m\u001b[0mget_group\u001b[0m\u001b[1;33m(\u001b[0m\u001b[0mc\u001b[0m\u001b[1;33m)\u001b[0m\u001b[1;33m\u001b[0m\u001b[0m\n\u001b[0;32m      4\u001b[0m     \u001b[0moverall\u001b[0m\u001b[1;33m=\u001b[0m\u001b[1;33m[\u001b[0m\u001b[1;33m]\u001b[0m\u001b[1;33m\u001b[0m\u001b[0m\n\u001b[1;32m----> 5\u001b[1;33m     \u001b[1;32mfor\u001b[0m \u001b[0mindex\u001b[0m\u001b[1;33m,\u001b[0m \u001b[0mrow\u001b[0m \u001b[1;32min\u001b[0m \u001b[0mgroup_cat\u001b[0m\u001b[1;33m.\u001b[0m\u001b[0miterrows\u001b[0m\u001b[1;33m(\u001b[0m\u001b[1;33m)\u001b[0m\u001b[1;33m:\u001b[0m\u001b[1;33m\u001b[0m\u001b[0m\n\u001b[0m\u001b[0;32m      6\u001b[0m         \u001b[1;32mif\u001b[0m \u001b[0mrow\u001b[0m\u001b[1;33m[\u001b[0m\u001b[1;34m\"helpful\"\u001b[0m\u001b[1;33m]\u001b[0m\u001b[1;33m[\u001b[0m\u001b[1;36m1\u001b[0m\u001b[1;33m]\u001b[0m\u001b[1;33m!=\u001b[0m\u001b[1;36m0\u001b[0m\u001b[1;33m:\u001b[0m\u001b[1;33m\u001b[0m\u001b[0m\n\u001b[0;32m      7\u001b[0m             \u001b[0moverall\u001b[0m\u001b[1;33m.\u001b[0m\u001b[0mappend\u001b[0m\u001b[1;33m(\u001b[0m\u001b[0mrow\u001b[0m\u001b[1;33m[\u001b[0m\u001b[1;34m\"overall\"\u001b[0m\u001b[1;33m]\u001b[0m\u001b[1;33m*\u001b[0m\u001b[1;33m(\u001b[0m\u001b[0mrow\u001b[0m\u001b[1;33m[\u001b[0m\u001b[1;34m\"helpful\"\u001b[0m\u001b[1;33m]\u001b[0m\u001b[1;33m[\u001b[0m\u001b[1;36m0\u001b[0m\u001b[1;33m]\u001b[0m\u001b[1;33m/\u001b[0m\u001b[0mrow\u001b[0m\u001b[1;33m[\u001b[0m\u001b[1;34m\"helpful\"\u001b[0m\u001b[1;33m]\u001b[0m\u001b[1;33m[\u001b[0m\u001b[1;36m1\u001b[0m\u001b[1;33m]\u001b[0m\u001b[1;33m)\u001b[0m\u001b[1;33m)\u001b[0m\u001b[1;33m\u001b[0m\u001b[0m\n",
      "\u001b[1;32mC:\\Users\\Ana\\Anaconda3\\lib\\site-packages\\pandas\\core\\frame.py\u001b[0m in \u001b[0;36miterrows\u001b[1;34m(self)\u001b[0m\n\u001b[0;32m    654\u001b[0m         \u001b[0mcolumns\u001b[0m \u001b[1;33m=\u001b[0m \u001b[0mself\u001b[0m\u001b[1;33m.\u001b[0m\u001b[0mcolumns\u001b[0m\u001b[1;33m\u001b[0m\u001b[0m\n\u001b[0;32m    655\u001b[0m         \u001b[1;32mfor\u001b[0m \u001b[0mk\u001b[0m\u001b[1;33m,\u001b[0m \u001b[0mv\u001b[0m \u001b[1;32min\u001b[0m \u001b[0mzip\u001b[0m\u001b[1;33m(\u001b[0m\u001b[0mself\u001b[0m\u001b[1;33m.\u001b[0m\u001b[0mindex\u001b[0m\u001b[1;33m,\u001b[0m \u001b[0mself\u001b[0m\u001b[1;33m.\u001b[0m\u001b[0mvalues\u001b[0m\u001b[1;33m)\u001b[0m\u001b[1;33m:\u001b[0m\u001b[1;33m\u001b[0m\u001b[0m\n\u001b[1;32m--> 656\u001b[1;33m             \u001b[0ms\u001b[0m \u001b[1;33m=\u001b[0m \u001b[0mSeries\u001b[0m\u001b[1;33m(\u001b[0m\u001b[0mv\u001b[0m\u001b[1;33m,\u001b[0m \u001b[0mindex\u001b[0m\u001b[1;33m=\u001b[0m\u001b[0mcolumns\u001b[0m\u001b[1;33m,\u001b[0m \u001b[0mname\u001b[0m\u001b[1;33m=\u001b[0m\u001b[0mk\u001b[0m\u001b[1;33m)\u001b[0m\u001b[1;33m\u001b[0m\u001b[0m\n\u001b[0m\u001b[0;32m    657\u001b[0m             \u001b[1;32myield\u001b[0m \u001b[0mk\u001b[0m\u001b[1;33m,\u001b[0m \u001b[0ms\u001b[0m\u001b[1;33m\u001b[0m\u001b[0m\n\u001b[0;32m    658\u001b[0m \u001b[1;33m\u001b[0m\u001b[0m\n",
      "\u001b[1;31mKeyboardInterrupt\u001b[0m: "
     ]
    }
   ],
   "source": [
    "s=[]\n",
    "for c in list(category_group.groups):\n",
    "    group_cat = category_group.get_group(c)\n",
    "    overall=[]\n",
    "    for index, row in group_cat.iterrows():\n",
    "        if row[\"helpful\"][1]!=0:\n",
    "            overall.append(row[\"overall\"]*(row[\"helpful\"][0]/row[\"helpful\"][1]))\n",
    "        else: overall.append(row[\"overall\"])\n",
    "    s.append(str(c)+\", number of votes: \"+str(len(group_cat))+ \", mean: \"+ str(sum(overall)/len(overall)))\n",
    "for i in range (5): print (s[i])"
   ]
  },
  {
   "cell_type": "code",
   "execution_count": null,
   "metadata": {
    "collapsed": true
   },
   "outputs": [],
   "source": []
  }
 ],
 "metadata": {
  "anaconda-cloud": {},
  "kernelspec": {
   "display_name": "Python [Root]",
   "language": "python",
   "name": "Python [Root]"
  },
  "language_info": {
   "codemirror_mode": {
    "name": "ipython",
    "version": 3
   },
   "file_extension": ".py",
   "mimetype": "text/x-python",
   "name": "python",
   "nbconvert_exporter": "python",
   "pygments_lexer": "ipython3",
   "version": "3.5.2"
  }
 },
 "nbformat": 4,
 "nbformat_minor": 0
}
