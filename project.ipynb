{
 "cells": [
  {
   "cell_type": "markdown",
   "metadata": {},
   "source": [
    "In the filter.py file there is a code which we used to extract data for Swiss products from cluster. To do that we used list of brands which is located in brands_lists folder (file we used is brands_swiss_original_list.json). \n",
    "Similarly, we extracted data for German, Italian, French and USA products, by using brands listed in files with appropriate names."
   ]
  },
  {
   "cell_type": "code",
   "execution_count": 2,
   "metadata": {
    "collapsed": true
   },
   "outputs": [],
   "source": [
    "import os\n",
    "import pandas as pd\n",
    "import time\n",
    "from datetime import datetime\n",
    "import numpy as np\n",
    "import matplotlib.pyplot as plt\n",
    "import matplotlib.dates as mdates\n",
    "import matplotlib.cbook as cbook\n",
    "import time"
   ]
  },
  {
   "cell_type": "markdown",
   "metadata": {},
   "source": [
    "# Data improting and cleaning"
   ]
  },
  {
   "cell_type": "markdown",
   "metadata": {},
   "source": [
    " In the next few cells we import data from json files into DataFrames. We did that for Switzerlan as well as for other countries.  "
   ]
  },
  {
   "cell_type": "code",
   "execution_count": 3,
   "metadata": {
    "collapsed": false,
    "scrolled": true
   },
   "outputs": [
    {
     "data": {
      "text/plain": [
       "(213873, 17)"
      ]
     },
     "execution_count": 3,
     "metadata": {},
     "output_type": "execute_result"
    }
   ],
   "source": [
    "with open(\"res.json\") as file:\n",
    "    data = pd.read_json(file)\n",
    "data.shape"
   ]
  },
  {
   "cell_type": "markdown",
   "metadata": {},
   "source": [
    "Every row of a DataFrame represents one revies. In the next cell we can observe which information considering one review we have."
   ]
  },
  {
   "cell_type": "code",
   "execution_count": 4,
   "metadata": {
    "collapsed": false
   },
   "outputs": [
    {
     "data": {
      "text/plain": [
       "asin                                                     B0009YJ238\n",
       "brand                                                        Nestle\n",
       "categories        [[Pet Supplies, Dogs, Treats, Cookies, Biscuit...\n",
       "description       Busy Bone, 7 OZ, Small/Medium Dog Treat, Twist...\n",
       "helpful                                                      [0, 0]\n",
       "imUrl             http://ecx.images-amazon.com/images/I/31ToYepJ...\n",
       "overall                                                           5\n",
       "price                                                          3.49\n",
       "related                                                         NaN\n",
       "reviewText        I adore my six-month-old dog, Midge.  She's ev...\n",
       "reviewTime                                              01 22, 2007\n",
       "reviewerID                                           A3MTXMDJ7JQSFO\n",
       "reviewerName                                            A. Ruminski\n",
       "salesRank                                  {'Pet Supplies': 487454}\n",
       "summary                                     Busy bone = happy owner\n",
       "title                                        BusyBone MED Dog Treat\n",
       "unixReviewTime                                           1169424000\n",
       "Name: 0, dtype: object"
      ]
     },
     "execution_count": 4,
     "metadata": {},
     "output_type": "execute_result"
    }
   ],
   "source": [
    "data.loc[0]"
   ]
  },
  {
   "cell_type": "code",
   "execution_count": 5,
   "metadata": {
    "collapsed": true
   },
   "outputs": [],
   "source": [
    "#with open(\"res_usa.json\") as file:\n",
    "    #data_US = pd.read_json(file)\n",
    "#data.shape\n",
    "#print(\"check\")"
   ]
  },
  {
   "cell_type": "code",
   "execution_count": 19,
   "metadata": {
    "collapsed": false
   },
   "outputs": [
    {
     "data": {
      "text/plain": [
       "(213873, 17)"
      ]
     },
     "execution_count": 19,
     "metadata": {},
     "output_type": "execute_result"
    }
   ],
   "source": [
    "with open(\"res_france.json\") as file:\n",
    "    data_france = pd.read_json(file)\n",
    "data_france.shape"
   ]
  },
  {
   "cell_type": "code",
   "execution_count": 20,
   "metadata": {
    "collapsed": false
   },
   "outputs": [
    {
     "data": {
      "text/plain": [
       "(213873, 17)"
      ]
     },
     "execution_count": 20,
     "metadata": {},
     "output_type": "execute_result"
    }
   ],
   "source": [
    "with open(\"res_italy.json\") as file:\n",
    "    data_italy = pd.read_json(file)\n",
    "data_italy.shape"
   ]
  },
  {
   "cell_type": "code",
   "execution_count": 21,
   "metadata": {
    "collapsed": false
   },
   "outputs": [],
   "source": [
    "with open(\"res_germany.json\") as file:\n",
    "    data_germany = pd.read_json(file)\n",
    "data_germany"
   ]
  },
  {
   "cell_type": "markdown",
   "metadata": {},
   "source": [
    "By observing products withing each brand, we can easily spot that it can happen that name of a brand, eg. \"Omega\" represents more than one company (and in case of \"Omega\" almost 10 companies). For each brand we delete categories which are not connected with products which company from Switzerland produces. E.g. Swiss company \"Omega\" makes mainly watches or similar accessories. Therefore, product in category ['Home & Kitchen','Kitchen & Dining', 'Small Appliances', 'Juicers', 'Masticating Juicers'] is very likely not swiss product. We checked manualy some products and actual brands of such categories, to justify our assumptions."
   ]
  },
  {
   "cell_type": "code",
   "execution_count": 26,
   "metadata": {
    "collapsed": false,
    "scrolled": false
   },
   "outputs": [
    {
     "data": {
      "text/plain": [
       "['Home & Kitchen',\n",
       " 'Kitchen & Dining',\n",
       " 'Small Appliances',\n",
       " 'Juicers',\n",
       " 'Masticating Juicers']"
      ]
     },
     "execution_count": 26,
     "metadata": {},
     "output_type": "execute_result"
    }
   ],
   "source": [
    "data.groupby(\"brand\").get_group(\"Omega\")[\"categories\"][14][0]"
   ]
  },
  {
   "cell_type": "code",
   "execution_count": 27,
   "metadata": {
    "collapsed": true
   },
   "outputs": [],
   "source": [
    "data=data[data['brand']!=\"ABB\"]\n",
    "data=data[data['brand']!=\"Callebaut\"]\n",
    "data=data[data['brand']!=\"ABB\"]\n",
    "data=data[data['brand']!=\"STMicroelectronics\"]\n",
    "data=data[(data['brand']!=\"IWC\")|((data['brand']==\"IWC\") & \\\n",
    "                    ((data[\"categories\"]!=\"AutomotivePaint, Body & TrimBodyDoors\")& \\\n",
    "                                (data[\"categories\"]!='AutomotiveTires & WheelsAccessoriesCenter Caps')& \\\n",
    "                                    (data[\"categories\"]!='AutomotiveTires & WheelsHubcaps & CoversHubcaps')))]\n",
    "data=data[(data['brand']!=\"Swatch\")|((data['brand']==\"Swatch\") & \\\n",
    "                    ((data[\"categories\"]!=\"Arts, Crafts & SewingFabric\")& \\\n",
    "                                    (data[\"categories\"]!='Arts, Crafts & SewingNeedleworkCross-StitchCounted Kits')))]\n",
    "data=data[(data['brand']!=\"Sigg\")|((data['brand']==\"Sigg\") & \\\n",
    "                                    (data[\"categories\"]!='Office ProductsOffice & School SuppliesForms, Recordkeeping & Money HandlingMoney & Rent Receipts'))]\n",
    "data=data[(data['brand']!=\"PB Swiss\")|((data['brand']==\"PB Swiss\") & \\\n",
    "                    ((data[\"categories\"]!=\"Clothing, Shoes & JewelryNovelty, Costumes & MoreNoveltyJewelryBracelets\")& \\\n",
    "                                (data[\"categories\"]!='Office ProductsOffice & School SuppliesCalendars, Planners & Personal OrganizersWall Calendars')& \\\n",
    "                                    (data[\"categories\"]!='Sports & OutdoorsAccessoriesWristbands')))]\n",
    "data=data[(data['brand']!=\"Omega\")|((data['brand']==\"Omega\") & \\\n",
    "                    ((data[\"categories\"]==\"Clothing, Shoes & JewelryGifts\")| \\\n",
    "                    (data[\"categories\"]=='Clothing, Shoes & JewelryJewelry: International Shipping Available')| \\\n",
    "                    (data[\"categories\"]=='Clothing, Shoes & JewelryLuxury Watches')| \\\n",
    "                     (data[\"categories\"]=='Clothing, Shoes & JewelryNew Arrivals')| \\\n",
    "                     (data[\"categories\"]=='Clothing, Shoes & JewelryOmega Watches')| \\\n",
    "                     (data[\"categories\"]=='Sports & OutdoorsAccessoriesSport Watches')))]"
   ]
  },
  {
   "cell_type": "markdown",
   "metadata": {},
   "source": [
    "Here we can see how our DataFrame looks for first few reviews."
   ]
  },
  {
   "cell_type": "code",
   "execution_count": 28,
   "metadata": {
    "collapsed": false
   },
   "outputs": [
    {
     "data": {
      "text/html": [
       "<div>\n",
       "<table border=\"1\" class=\"dataframe\">\n",
       "  <thead>\n",
       "    <tr style=\"text-align: right;\">\n",
       "      <th></th>\n",
       "      <th>asin</th>\n",
       "      <th>brand</th>\n",
       "      <th>categories</th>\n",
       "      <th>description</th>\n",
       "      <th>helpful</th>\n",
       "      <th>imUrl</th>\n",
       "      <th>overall</th>\n",
       "      <th>price</th>\n",
       "      <th>related</th>\n",
       "      <th>reviewText</th>\n",
       "      <th>reviewTime</th>\n",
       "      <th>reviewerID</th>\n",
       "      <th>reviewerName</th>\n",
       "      <th>salesRank</th>\n",
       "      <th>summary</th>\n",
       "      <th>title</th>\n",
       "      <th>unixReviewTime</th>\n",
       "    </tr>\n",
       "  </thead>\n",
       "  <tbody>\n",
       "    <tr>\n",
       "      <th>0</th>\n",
       "      <td>B0009YJ238</td>\n",
       "      <td>Nestle</td>\n",
       "      <td>[[Pet Supplies, Dogs, Treats, Cookies, Biscuit...</td>\n",
       "      <td>Busy Bone, 7 OZ, Small/Medium Dog Treat, Twist...</td>\n",
       "      <td>[0, 0]</td>\n",
       "      <td>http://ecx.images-amazon.com/images/I/31ToYepJ...</td>\n",
       "      <td>5</td>\n",
       "      <td>3.49</td>\n",
       "      <td>NaN</td>\n",
       "      <td>I adore my six-month-old dog, Midge.  She's ev...</td>\n",
       "      <td>01 22, 2007</td>\n",
       "      <td>A3MTXMDJ7JQSFO</td>\n",
       "      <td>A. Ruminski</td>\n",
       "      <td>{'Pet Supplies': 487454}</td>\n",
       "      <td>Busy bone = happy owner</td>\n",
       "      <td>BusyBone MED Dog Treat</td>\n",
       "      <td>1169424000</td>\n",
       "    </tr>\n",
       "    <tr>\n",
       "      <th>1</th>\n",
       "      <td>B00126U31C</td>\n",
       "      <td>Swatch</td>\n",
       "      <td>[[Clothing, Shoes &amp; Jewelry, New Arrivals], [C...</td>\n",
       "      <td>NaN</td>\n",
       "      <td>[0, 1]</td>\n",
       "      <td>http://ecx.images-amazon.com/images/I/51fwuvsL...</td>\n",
       "      <td>3</td>\n",
       "      <td>72.14</td>\n",
       "      <td>{'also_viewed': ['B002DQGUI0', 'B000KNE09E', '...</td>\n",
       "      <td>The watch itself is solid, however, the leathe...</td>\n",
       "      <td>12 14, 2012</td>\n",
       "      <td>AYKBRA7MKIPAV</td>\n",
       "      <td>G.Jackson</td>\n",
       "      <td>{'Watches': 95452}</td>\n",
       "      <td>Swatch watch</td>\n",
       "      <td>Swatch Men's STYNS421 Wild Roar Brown Dial Watch</td>\n",
       "      <td>1355443200</td>\n",
       "    </tr>\n",
       "    <tr>\n",
       "      <th>2</th>\n",
       "      <td>B002HHGF5I</td>\n",
       "      <td>Tissot</td>\n",
       "      <td>[[Sports &amp; Outdoors, Accessories, Sport Watche...</td>\n",
       "      <td>NaN</td>\n",
       "      <td>[4, 5]</td>\n",
       "      <td>http://ecx.images-amazon.com/images/I/516lmovC...</td>\n",
       "      <td>5</td>\n",
       "      <td>846.00</td>\n",
       "      <td>{'also_viewed': ['B0029SJ3ZE', 'B001CBC2I4', '...</td>\n",
       "      <td>incredible watch.  super light yet rugged.  i ...</td>\n",
       "      <td>03 7, 2011</td>\n",
       "      <td>A3MBOY1IA8PS85</td>\n",
       "      <td>M. Klein \"Gras\"</td>\n",
       "      <td>{'Watches': 27798}</td>\n",
       "      <td>great watch</td>\n",
       "      <td>Tissot Men's T0134204405700 T-Touch Expert Pil...</td>\n",
       "      <td>1299456000</td>\n",
       "    </tr>\n",
       "    <tr>\n",
       "      <th>3</th>\n",
       "      <td>B002HHGF5I</td>\n",
       "      <td>Tissot</td>\n",
       "      <td>[[Sports &amp; Outdoors, Accessories, Sport Watche...</td>\n",
       "      <td>NaN</td>\n",
       "      <td>[8, 11]</td>\n",
       "      <td>http://ecx.images-amazon.com/images/I/516lmovC...</td>\n",
       "      <td>5</td>\n",
       "      <td>846.00</td>\n",
       "      <td>{'also_viewed': ['B0029SJ3ZE', 'B001CBC2I4', '...</td>\n",
       "      <td>I have been a watch junkie for some years but ...</td>\n",
       "      <td>02 27, 2010</td>\n",
       "      <td>A1SE5JXA03WBDT</td>\n",
       "      <td>Mem Ber \"me\"</td>\n",
       "      <td>{'Watches': 27798}</td>\n",
       "      <td>the best watch in my collection</td>\n",
       "      <td>Tissot Men's T0134204405700 T-Touch Expert Pil...</td>\n",
       "      <td>1267228800</td>\n",
       "    </tr>\n",
       "    <tr>\n",
       "      <th>4</th>\n",
       "      <td>B002HHGF5I</td>\n",
       "      <td>Tissot</td>\n",
       "      <td>[[Sports &amp; Outdoors, Accessories, Sport Watche...</td>\n",
       "      <td>NaN</td>\n",
       "      <td>[0, 2]</td>\n",
       "      <td>http://ecx.images-amazon.com/images/I/516lmovC...</td>\n",
       "      <td>5</td>\n",
       "      <td>846.00</td>\n",
       "      <td>{'also_viewed': ['B0029SJ3ZE', 'B001CBC2I4', '...</td>\n",
       "      <td>just what I wanted when I ordered this watch. ...</td>\n",
       "      <td>01 7, 2014</td>\n",
       "      <td>A4ACF44TDCIZK</td>\n",
       "      <td>MELANIE DAVID</td>\n",
       "      <td>{'Watches': 27798}</td>\n",
       "      <td>Tissot Men's T0134204405700 T-Touch Expert Pil...</td>\n",
       "      <td>Tissot Men's T0134204405700 T-Touch Expert Pil...</td>\n",
       "      <td>1389052800</td>\n",
       "    </tr>\n",
       "  </tbody>\n",
       "</table>\n",
       "</div>"
      ],
      "text/plain": [
       "         asin   brand                                         categories  \\\n",
       "0  B0009YJ238  Nestle  [[Pet Supplies, Dogs, Treats, Cookies, Biscuit...   \n",
       "1  B00126U31C  Swatch  [[Clothing, Shoes & Jewelry, New Arrivals], [C...   \n",
       "2  B002HHGF5I  Tissot  [[Sports & Outdoors, Accessories, Sport Watche...   \n",
       "3  B002HHGF5I  Tissot  [[Sports & Outdoors, Accessories, Sport Watche...   \n",
       "4  B002HHGF5I  Tissot  [[Sports & Outdoors, Accessories, Sport Watche...   \n",
       "\n",
       "                                         description  helpful  \\\n",
       "0  Busy Bone, 7 OZ, Small/Medium Dog Treat, Twist...   [0, 0]   \n",
       "1                                                NaN   [0, 1]   \n",
       "2                                                NaN   [4, 5]   \n",
       "3                                                NaN  [8, 11]   \n",
       "4                                                NaN   [0, 2]   \n",
       "\n",
       "                                               imUrl  overall   price  \\\n",
       "0  http://ecx.images-amazon.com/images/I/31ToYepJ...        5    3.49   \n",
       "1  http://ecx.images-amazon.com/images/I/51fwuvsL...        3   72.14   \n",
       "2  http://ecx.images-amazon.com/images/I/516lmovC...        5  846.00   \n",
       "3  http://ecx.images-amazon.com/images/I/516lmovC...        5  846.00   \n",
       "4  http://ecx.images-amazon.com/images/I/516lmovC...        5  846.00   \n",
       "\n",
       "                                             related  \\\n",
       "0                                                NaN   \n",
       "1  {'also_viewed': ['B002DQGUI0', 'B000KNE09E', '...   \n",
       "2  {'also_viewed': ['B0029SJ3ZE', 'B001CBC2I4', '...   \n",
       "3  {'also_viewed': ['B0029SJ3ZE', 'B001CBC2I4', '...   \n",
       "4  {'also_viewed': ['B0029SJ3ZE', 'B001CBC2I4', '...   \n",
       "\n",
       "                                          reviewText   reviewTime  \\\n",
       "0  I adore my six-month-old dog, Midge.  She's ev...  01 22, 2007   \n",
       "1  The watch itself is solid, however, the leathe...  12 14, 2012   \n",
       "2  incredible watch.  super light yet rugged.  i ...   03 7, 2011   \n",
       "3  I have been a watch junkie for some years but ...  02 27, 2010   \n",
       "4  just what I wanted when I ordered this watch. ...   01 7, 2014   \n",
       "\n",
       "       reviewerID     reviewerName                 salesRank  \\\n",
       "0  A3MTXMDJ7JQSFO      A. Ruminski  {'Pet Supplies': 487454}   \n",
       "1   AYKBRA7MKIPAV        G.Jackson        {'Watches': 95452}   \n",
       "2  A3MBOY1IA8PS85  M. Klein \"Gras\"        {'Watches': 27798}   \n",
       "3  A1SE5JXA03WBDT     Mem Ber \"me\"        {'Watches': 27798}   \n",
       "4   A4ACF44TDCIZK    MELANIE DAVID        {'Watches': 27798}   \n",
       "\n",
       "                                             summary  \\\n",
       "0                            Busy bone = happy owner   \n",
       "1                                       Swatch watch   \n",
       "2                                        great watch   \n",
       "3                    the best watch in my collection   \n",
       "4  Tissot Men's T0134204405700 T-Touch Expert Pil...   \n",
       "\n",
       "                                               title  unixReviewTime  \n",
       "0                             BusyBone MED Dog Treat      1169424000  \n",
       "1   Swatch Men's STYNS421 Wild Roar Brown Dial Watch      1355443200  \n",
       "2  Tissot Men's T0134204405700 T-Touch Expert Pil...      1299456000  \n",
       "3  Tissot Men's T0134204405700 T-Touch Expert Pil...      1267228800  \n",
       "4  Tissot Men's T0134204405700 T-Touch Expert Pil...      1389052800  "
      ]
     },
     "execution_count": 28,
     "metadata": {},
     "output_type": "execute_result"
    }
   ],
   "source": [
    "data.head(5)"
   ]
  },
  {
   "cell_type": "markdown",
   "metadata": {},
   "source": [
    "If we inspect some entries, it can be seen that the category column for some of the rows contains more than one entries. See example below"
   ]
  },
  {
   "cell_type": "code",
   "execution_count": 29,
   "metadata": {
    "collapsed": false
   },
   "outputs": [
    {
     "data": {
      "text/plain": [
       "[['Clothing, Shoes & Jewelry', 'New Arrivals'],\n",
       " ['Clothing, Shoes & Jewelry', 'Jewelry: International Shipping Available'],\n",
       " ['Clothing, Shoes & Jewelry', 'Fashion Watches'],\n",
       " ['Clothing, Shoes & Jewelry', 'Available for International Shipping'],\n",
       " ['Clothing, Shoes & Jewelry', 'Swatch Watches'],\n",
       " ['Clothing, Shoes & Jewelry', 'Men', 'Watches', 'Wrist Watches']]"
      ]
     },
     "execution_count": 29,
     "metadata": {},
     "output_type": "execute_result"
    }
   ],
   "source": [
    "data['categories'][1]"
   ]
  },
  {
   "cell_type": "markdown",
   "metadata": {},
   "source": [
    "We figure out the number of such entries (that we call invalid) in our dataset"
   ]
  },
  {
   "cell_type": "code",
   "execution_count": 30,
   "metadata": {
    "collapsed": false
   },
   "outputs": [
    {
     "name": "stdout",
     "output_type": "stream",
     "text": [
      "True     199104\n",
      "False      8288\n",
      "Name: flag, dtype: int64\n",
      "Number of invalid entries:  8288 \n",
      " Percentage of total entries that are invalid:  3.99629686777\n"
     ]
    }
   ],
   "source": [
    "data['flag'] = data['categories'].apply(lambda x: False if len(x)>1 else True)\n",
    "print(data.flag.value_counts())\n",
    "print('Number of invalid entries: ', data.flag.value_counts()[0] ,'\\n',\n",
    "      'Percentage of total entries that are invalid: ',\n",
    "      100*data.flag.value_counts()[0] / data.flag.value_counts().sum())"
   ]
  },
  {
   "cell_type": "markdown",
   "metadata": {},
   "source": [
    "We intend to perform the category-wise analysis of our reviews and since these entries (that are slightly complicated to handle due to multiple values for category attribute) happen to be only 4% of the entire dataset, we drop them. We do that for all other countries as well."
   ]
  },
  {
   "cell_type": "code",
   "execution_count": 31,
   "metadata": {
    "collapsed": false
   },
   "outputs": [],
   "source": [
    "import numpy as np\n",
    "def delete_more_categories(data):\n",
    "    data['flag'] = data['categories'].apply(lambda x: False if len(x)>1 else True)\n",
    "    return data[data['flag']]\n",
    "data = delete_more_categories(data)\n",
    "data_france = delete_more_categories(data_france)\n",
    "data_italy = delete_more_categories(data_italy)\n",
    "#data_US = delete_more_categories(data_US)\n",
    "data_germany = delete_more_categories(data_germany)"
   ]
  },
  {
   "cell_type": "code",
   "execution_count": 32,
   "metadata": {
    "collapsed": false
   },
   "outputs": [
    {
     "name": "stdout",
     "output_type": "stream",
     "text": [
      "[['Pet Supplies', 'Dogs', 'Treats', 'Cookies, Biscuits & Snacks', 'Snacks']]\n"
     ]
    }
   ],
   "source": [
    "print(data['categories'][0])"
   ]
  },
  {
   "cell_type": "markdown",
   "metadata": {},
   "source": [
    "Our objective now is to determine a level in the hierarchy of categories where we should stop, so that the different number of categories we get are manageable for analysis and for interpretable results. \n",
    "\n",
    "For example the categories attribute for the 154-th instance printed above is a 5 member list -  \n",
    "['Home & Kitchen', 'Kitchen & Dining', 'Small Appliances', 'Juicers', 'Masticating Juicers']\n",
    "\n",
    "If we decide to stop at a hierarchy level of 1, we would clip this list to simply ['Home & Kitchen'] or if we stop at the second level we'll end up with ['Home & Kitchen', 'Kitchen & Dining'] for this instance. A good choice of what level to stop at will be guided by the number of unique category attributes we have to deal with for the given level. To begin with, we stop at a level of 2 to realize that we get 103 unique categories which are too much for proper interpretability, hence we go up the level and check for 1."
   ]
  },
  {
   "cell_type": "code",
   "execution_count": 33,
   "metadata": {
    "collapsed": false
   },
   "outputs": [
    {
     "name": "stdout",
     "output_type": "stream",
     "text": [
      "Number of unique categories after clipping: 97 \n",
      " Electronics, Computers & Accessories                      115571\n",
      "Electronics, Accessories & Supplies                        13397\n",
      "Home & Kitchen, Kitchen & Dining                           12041\n",
      "Sports & Outdoors, Outdoor Gear                            11695\n",
      "Video Games, PC                                             9868\n",
      "Grocery & Gourmet Food                                      8214\n",
      "Electronics, Portable Audio & Video                         7233\n",
      "Cell Phones & Accessories, Accessories                      2753\n",
      "Tools & Home Improvement, Power & Hand Tools                1449\n",
      "Office Products, Office Electronics                         1413\n",
      "Beauty, Skin Care                                           1363\n",
      "Electronics, Home Audio                                     1270\n",
      "Health & Personal Care, Personal Care                       1068\n",
      "Clothing, Shoes & Jewelry, Luggage & Travel Gear            1055\n",
      "Computers                                                   1039\n",
      "Sports & Outdoors                                            947\n",
      "Pet Supplies, Cats                                           739\n",
      "Health & Personal Care, Household Supplies                   708\n",
      "Video Games, More Systems                                    701\n",
      "Pet Supplies, Dogs                                           505\n",
      "Clothing, Shoes & Jewelry, Men                               485\n",
      "Patio, Lawn & Garden, Pest Control                           484\n",
      "Health & Personal Care, Health Care                          456\n",
      "Health & Personal Care                                       446\n",
      "Sports & Outdoors, Accessories                               435\n",
      "Sports & Outdoors, Hunting & Fishing                         420\n",
      "Kitchen & Dining                                             419\n",
      "Baby Products, Bathing & Skin Care                           375\n",
      "Beauty, Hair Care                                            180\n",
      "Industrial & Scientific, Professional Dental Supplies        175\n",
      "                                                           ...  \n",
      "Toys & Games, Learning & Education                             9\n",
      "Sports & Outdoors, Action Sports                               9\n",
      "Toys & Games, Action Figures & Statues                         8\n",
      "Baby Products, Feeding                                         8\n",
      "Electronics, GPS & Navigation                                  7\n",
      "Industrial & Scientific, Professional Medical Supplies         6\n",
      "Baby                                                           5\n",
      "Industrial & Scientific, Lab & Scientific Products             5\n",
      "Arts, Crafts & Sewing, Needlework                              5\n",
      "Clothing, Shoes & Jewelry, Baby                                5\n",
      "Health & Personal Care, Sports Nutrition                       4\n",
      "Toys & Games, Games                                            4\n",
      "Arts, Crafts & Sewing                                          4\n",
      "Clothing, Shoes & Jewelry, W                                   4\n",
      "Clothing, Shoes & Jewelry, Novelty, Costumes & More            4\n",
      "Tools & Home Improvement, Safety & Security                    4\n",
      "Grocery & Gourmet Food, Baby Foods                             3\n",
      "All Beauty                                                     3\n",
      "Toys & Games, Novelty & Gag Toys                               2\n",
      "Automotive, Car Care                                           2\n",
      "Baby Products                                                  2\n",
      "Automotive, Paint, Body & Trim                                 2\n",
      "Toys & Games, Sports & Outdoor Play                            2\n",
      "Home & Kitchen, Bath                                           1\n",
      "Automotive, Interior Accessories                               1\n",
      "Tools & Home Improvement, Rough Plumbing                       1\n",
      "Industrial & Scientific                                        1\n",
      "Tools & Home Improvement, Building Supplies                    1\n",
      "Electronics                                                    1\n",
      "Sports & Outdoors, Boating & Water Sports                      1\n",
      "Name: categories_clipped, dtype: int64\n"
     ]
    }
   ],
   "source": [
    "df_test = data.copy()\n",
    "df_test['categories_clipped'] = df_test['categories'].apply(lambda x: (x[0][0] + ', ' + x[0][1]) if len(x[0])>2 \n",
    "                                                            else x[0][0] )\n",
    "print('Number of unique categories after clipping:', len(df_test.categories_clipped.unique()),\n",
    "      '\\n',df_test.categories_clipped.value_counts())"
   ]
  },
  {
   "cell_type": "code",
   "execution_count": 34,
   "metadata": {
    "collapsed": false
   },
   "outputs": [
    {
     "name": "stderr",
     "output_type": "stream",
     "text": [
      "C:\\Users\\Ana\\Anaconda3\\lib\\site-packages\\ipykernel\\__main__.py:2: SettingWithCopyWarning: \n",
      "A value is trying to be set on a copy of a slice from a DataFrame.\n",
      "Try using .loc[row_indexer,col_indexer] = value instead\n",
      "\n",
      "See the caveats in the documentation: http://pandas.pydata.org/pandas-docs/stable/indexing.html#indexing-view-versus-copy\n",
      "  from ipykernel import kernelapp as app\n"
     ]
    }
   ],
   "source": [
    "def cut_layers(data): \n",
    "    data['categories'] = data['categories'].apply(lambda x: x[0][0])\n",
    "cut_layers(data)\n",
    "cut_layers(data_france)\n",
    "cut_layers(data_italy)\n",
    "#cut_layers(data_US)\n",
    "cut_layers(data_germany)"
   ]
  },
  {
   "cell_type": "code",
   "execution_count": 35,
   "metadata": {
    "collapsed": false
   },
   "outputs": [
    {
     "name": "stdout",
     "output_type": "stream",
     "text": [
      "Pet Supplies\n"
     ]
    }
   ],
   "source": [
    "print(data['categories'][0])"
   ]
  },
  {
   "cell_type": "markdown",
   "metadata": {},
   "source": [
    "As shown in the cell below, if we simply clip to level 1, we get 25 unique categories where 12 of them have less than 1000 reviews. In our further steps we stick to the only 13 categories that have atleast 1000 reviews, so that our claims are not based on small number of reviews."
   ]
  },
  {
   "cell_type": "code",
   "execution_count": 46,
   "metadata": {
    "collapsed": false
   },
   "outputs": [
    {
     "name": "stdout",
     "output_type": "stream",
     "text": [
      "Number of unique categories after clipping: 25 \n",
      " Number of unique categories with more than 1000 reviews: 13 \n",
      " Electronics                  137760\n",
      "Sports & Outdoors             13599\n",
      "Home & Kitchen                12185\n",
      "Video Games                   10569\n",
      "Grocery & Gourmet Food         8327\n",
      "Health & Personal Care         2821\n",
      "Cell Phones & Accessories      2807\n",
      "Beauty                         1837\n",
      "Clothing, Shoes & Jewelry      1766\n",
      "Office Products                1561\n",
      "Tools & Home Improvement       1482\n",
      "Pet Supplies                   1244\n",
      "Computers                      1039\n",
      "Patio, Lawn & Garden            580\n",
      "Kitchen & Dining                419\n",
      "Baby Products                   385\n",
      "Toys & Games                    227\n",
      "Industrial & Scientific         205\n",
      "Automotive                      145\n",
      "Amazon Fashion                   58\n",
      "Arts, Crafts & Sewing            35\n",
      "All Electronics                  33\n",
      "Office & School Supplies         12\n",
      "Baby                              5\n",
      "All Beauty                        3\n",
      "Name: categories, dtype: int64\n"
     ]
    }
   ],
   "source": [
    "print('Number of unique categories after clipping:', len(data.categories.unique()),\n",
    "      '\\n','Number of unique categories with more than 1000 reviews:',\n",
    "      (data.categories.value_counts() > 1000).value_counts()[1],\n",
    "      '\\n',data.categories.value_counts())"
   ]
  },
  {
   "cell_type": "markdown",
   "metadata": {},
   "source": [
    "We will do similarly for brands. There are 40 brands where 9 of them have more than 1000 reviews. In our further steps we stick to the only 9 brands that have at least 1000 reviews, so that our claims are not based on small number of reviews."
   ]
  },
  {
   "cell_type": "code",
   "execution_count": 64,
   "metadata": {
    "collapsed": false
   },
   "outputs": [
    {
     "name": "stdout",
     "output_type": "stream",
     "text": [
      "Number of unique brands after clipping: 40 \n",
      " Number of unique brands with more than 1000 reviews: 9 \n",
      " Logitech      151784\n",
      "Victorinox     23578\n",
      "Nespresso       4102\n",
      "Lindt           3875\n",
      "Wenger          3053\n",
      "Weleda          2591\n",
      "Nestle          2470\n",
      "Novartis        1460\n",
      "Sigg            1181\n",
      "Jura             783\n",
      "Renata           753\n",
      "Syngenta         588\n",
      "Alcon            392\n",
      "Ricola           352\n",
      "Maggi            343\n",
      "Phonak           253\n",
      "Chopard          247\n",
      "Milka            239\n",
      "Geomag           225\n",
      "Toblerone        199\n",
      "Nesquik          123\n",
      "IWC              101\n",
      "Nescafe           84\n",
      "PB Swiss          65\n",
      "Motorex           50\n",
      "Milo              41\n",
      "Mondaine          35\n",
      "Sika              23\n",
      "Fenjal            19\n",
      "Geberit           17\n",
      "BALLY             14\n",
      "Mido              12\n",
      "Roche              9\n",
      "Swatch             9\n",
      "Valmont            9\n",
      "Thorens            9\n",
      "Tissot             7\n",
      "Kaba               5\n",
      "Emmi               3\n",
      "Jowissa            1\n",
      "Name: brand, dtype: int64\n"
     ]
    }
   ],
   "source": [
    "print('Number of unique brands after clipping:', len(data.brand.unique()),\n",
    "      '\\n','Number of unique brands with more than 1000 reviews:',\n",
    "      (data.brand.value_counts() > 1000).value_counts()[1],\n",
    "      '\\n',data.brand.value_counts())"
   ]
  },
  {
   "cell_type": "markdown",
   "metadata": {},
   "source": [
    "# Data analysis"
   ]
  },
  {
   "cell_type": "markdown",
   "metadata": {},
   "source": [
    "### Calculate ratings"
   ]
  },
  {
   "cell_type": "markdown",
   "metadata": {},
   "source": [
    "At this point it is significant to explain how we calculate mean rating of group of reviews (group of reviews for one category, brand, product, etc.). Most logical solution would be to just take average value of those ratings. However, we soon realise that is not very precise solution. E.g. if we calculate average rating for one product, find that product and compare ratings we will in most cases find noticable difference. Therefore, we decided to use field \"helpful\" in order to make better estimation of mean rating (field helpful is a string \"positive/total\", which says how many people rated that review as helpful). Therefore, we took each rating with some weight. If both values \"positive\" and \"total\" are non-zero then we take that rating with weight positive/negative (e.g. for 1/4 we calculate 0.25\\*rating). In case value \"positive\" is 0 and value total is non-zero we calculate weight as 2/(2+total) (e.g. for 0/2 we calculate 0.5\\*rating). The goal was to avoid taking rating with score 0/1 and rating with score 0/10 with same weights, cause they are certainly not the same. Moreover, ratings with score 0/0 (majority of reviews is unrated) we decided to take with weight 1 (e.g. 1\\*rating). We empiricaly deduces that this weight gives most realistic results.  "
   ]
  },
  {
   "cell_type": "code",
   "execution_count": 45,
   "metadata": {
    "collapsed": true
   },
   "outputs": [],
   "source": [
    "#Mean rating of each brand\n",
    "#make weighted statistic of data - take overall rate according to helpfulness (how helpful is rating and comment)\n",
    "def calculate_review(data_frame):\n",
    "    s=[]\n",
    "    overall=[]\n",
    "    overall_count=0\n",
    "    for index, row in data_frame.iterrows():\n",
    "        if row[\"helpful\"][1]!=0: #and row[\"helpful\"][1]>=3:\n",
    "            if row[\"helpful\"][0]!=0:\n",
    "                overall.append(row[\"overall\"]*(row[\"helpful\"][0]/row[\"helpful\"][1]))\n",
    "                overall_count+=row[\"helpful\"][0]/row[\"helpful\"][1]\n",
    "            else: \n",
    "                overall.append(row[\"overall\"]*(2/(2+row[\"helpful\"][1])))\n",
    "                overall_count+=(2/(2+row[\"helpful\"][1]))\n",
    "        else: \n",
    "            overall.append(row[\"overall\"])\n",
    "            overall_count+=1\n",
    "    if overall_count!=0: return sum(overall)/overall_count, data_frame.shape[0]\n",
    "    else: return 0, data_frame.shape[0]"
   ]
  },
  {
   "cell_type": "markdown",
   "metadata": {},
   "source": [
    "## Categories stats"
   ]
  },
  {
   "cell_type": "markdown",
   "metadata": {},
   "source": [
    "### Change of categories ratings over time"
   ]
  },
  {
   "cell_type": "markdown",
   "metadata": {},
   "source": [
    "We intend to analyze the variations of ratings for these different categories over periods of time since we also access to the time of the review. "
   ]
  },
  {
   "cell_type": "code",
   "execution_count": 37,
   "metadata": {
    "collapsed": false
   },
   "outputs": [
    {
     "name": "stdout",
     "output_type": "stream",
     "text": [
      "2007/01/22 00:00 2014/02/12 00:00 2013/11/02 00:00\n"
     ]
    }
   ],
   "source": [
    "import datetime as dt\n",
    "print(dt.datetime.utcfromtimestamp(data.unixReviewTime[0]).strftime(\"%Y/%m/%d %H:%M\"),\n",
    "dt.datetime.utcfromtimestamp(data.unixReviewTime[213872]).strftime(\"%Y/%m/%d %H:%M\"),\n",
    "dt.datetime.utcfromtimestamp(data.unixReviewTime[160]).strftime(\"%Y/%m/%d %H:%M\"))"
   ]
  },
  {
   "cell_type": "markdown",
   "metadata": {},
   "source": [
    "As it turns out, all the unixtime values transform to '00:00' hours with the date matching to the column 'reviewTime', unfortunately the 'unixReviewTime' does not provide additional information for the time of the day when the review was made."
   ]
  },
  {
   "cell_type": "markdown",
   "metadata": {},
   "source": [
    "In the next cell we generate variables which we will need for analysis. We group all reviews by category.\n",
    "as well as generare lists of categories for every country. "
   ]
  },
  {
   "cell_type": "code",
   "execution_count": 38,
   "metadata": {
    "collapsed": false
   },
   "outputs": [],
   "source": [
    "category_group = data.groupby(\"categories\")\n",
    "france_grouped = data_france.groupby(\"categories\")\n",
    "italy_grouped = data_italy.groupby(\"categories\")\n",
    "#usa_grouped = data_US.groupby(\"categories\")\n",
    "germany_grouped = data_germany.groupby(\"categories\")\n",
    "categories_france=list(data_france[\"categories\"].drop_duplicates())\n",
    "categories_italy=list(data_italy[\"categories\"].drop_duplicates())\n",
    "#categories_usa=list(data_US[\"categories\"].drop_duplicates())\n",
    "categories_germany=list(data_germany[\"categories\"].drop_duplicates())"
   ]
  },
  {
   "cell_type": "markdown",
   "metadata": {},
   "source": [
    "We extract 13 biggest categories (with most reviews) and find mean ratings of those categories by using previously defined function calculate_review. "
   ]
  },
  {
   "cell_type": "code",
   "execution_count": 44,
   "metadata": {
    "collapsed": false
   },
   "outputs": [],
   "source": [
    "category_sorted=sorted(category_group, key=lambda x: len(x[1]), reverse=True)\n",
    "cat_means={}\n",
    "significant_categories = [category_sorted[i][0] for i in range(13)]\n",
    "for x in significant_categories: cat_means[x]=calculate_review(pd.DataFrame(category_group.get_group(x)))[0]"
   ]
  },
  {
   "cell_type": "raw",
   "metadata": {},
   "source": [
    "Electronics                  137816\n",
    "Home & Kitchen                16935\n",
    "Sports & Outdoors             13772\n",
    "Video Games                   10569\n",
    "Grocery & Gourmet Food         8375\n",
    "Health & Personal Care         3722\n",
    "Cell Phones & Accessories      2807\n",
    "Beauty                         1921\n",
    "Clothing, Shoes & Jewelry      1766\n",
    "Tools & Home Improvement       1567\n",
    "Office Products                1561\n",
    "Pet Supplies                   1247\n",
    "Computers                      1039"
   ]
  },
  {
   "cell_type": "markdown",
   "metadata": {},
   "source": [
    "For each category we extract reviews and sort them according to 'unixReviewTime'. By using datatime module we extract pairs (review_month, review_year) for all reviews for that category and save them. "
   ]
  },
  {
   "cell_type": "code",
   "execution_count": 23,
   "metadata": {
    "collapsed": false
   },
   "outputs": [],
   "source": [
    "eg={}\n",
    "for category_name in significant_categories:\n",
    "    eg[category_name] = data[data['categories'] == category_name].copy()\n",
    "    eg[category_name].sort_values( 'unixReviewTime', axis=0,inplace = True)\n",
    "    eg[category_name]['reviewMonth'] = ((eg[category_name].unixReviewTime).map(lambda t: datetime.fromtimestamp(t).month))\n",
    "    eg[category_name]['reviewYear']  = ((eg[category_name].unixReviewTime).map(lambda t: datetime.fromtimestamp(t).year))"
   ]
  },
  {
   "cell_type": "markdown",
   "metadata": {},
   "source": [
    "Here, we have generated all necessary variables which we will use in interactive section, to generate plots of rating changes of category over time. "
   ]
  },
  {
   "cell_type": "markdown",
   "metadata": {},
   "source": [
    "### Popular brands within category"
   ]
  },
  {
   "cell_type": "markdown",
   "metadata": {},
   "source": [
    "We want to find out how are brands, with products withing certain category rated. Function popular_brands, given category, returns brands, with products inside category, sorted according to their ratings. We use this function in interactive section to plot graphicons. "
   ]
  },
  {
   "cell_type": "code",
   "execution_count": 50,
   "metadata": {
    "collapsed": false,
    "scrolled": true
   },
   "outputs": [],
   "source": [
    "#what are the most and the least popular brands within each category\n",
    "from operator import itemgetter\n",
    "import operator\n",
    "import numpy as np\n",
    "def popular_brands(cat, data):\n",
    "    categories = data[\"categories\"].drop_duplicates()\n",
    "    grouped_cat = data.groupby(\"categories\")\n",
    "    category = pd.DataFrame(grouped_cat.get_group(cat))\n",
    "    brands = category[\"brand\"].drop_duplicates()\n",
    "    grouped_brands = category.groupby(\"brand\")\n",
    "    reviews={}\n",
    "    for b in brands:\n",
    "        brand = pd.DataFrame(grouped_brands.get_group(b))\n",
    "        if calculate_review(product)[0]!=0: reviews[b]=calculate_review(brand)\n",
    "    return sorted(reviews.items(), key=operator.itemgetter(1), reverse=True)\n",
    "#popular_brands(\"Electronics\", data)\n",
    "sorted_reviews={}\n",
    "for c in significant_categories: sorted_reviews[c] = popular_brands(c, data)"
   ]
  },
  {
   "cell_type": "markdown",
   "metadata": {},
   "source": [
    "### Compare category ratings with other countries"
   ]
  },
  {
   "cell_type": "markdown",
   "metadata": {},
   "source": [
    "In the next cell we generate means for categories for all other countries in order to compare it with switzerland. We use this variables in interactive section to plot graphics.  "
   ]
  },
  {
   "cell_type": "code",
   "execution_count": 51,
   "metadata": {
    "collapsed": true
   },
   "outputs": [],
   "source": [
    "france_means={}\n",
    "italy_means={}\n",
    "usa_means={}\n",
    "germany_means={}\n",
    "for category in significant_categories:\n",
    "    if category in categories_france: \n",
    "        france_means[category]=calculate_review(pd.DataFrame(france_grouped.get_group(category)))[0]\n",
    "for category in significant_categories:\n",
    "    if category in categories_italy: \n",
    "        italy_means[category]=calculate_review(pd.DataFrame(italy_grouped.get_group(category)))[0]\n",
    "#for category in significant_categories:\n",
    "    #if category in categories_usa: \n",
    "        #usa_means[category]=calculate_review(pd.DataFrame(usa_grouped.get_group(category)))[0]\n",
    "for category in significant_categories:\n",
    "    if category in categories_germany: \n",
    "        germany_means[category]=calculate_review(pd.DataFrame(germany_grouped.get_group(category)))[0]"
   ]
  },
  {
   "cell_type": "markdown",
   "metadata": {},
   "source": [
    "## Brands stats"
   ]
  },
  {
   "cell_type": "markdown",
   "metadata": {},
   "source": [
    "In the next cell we group reviews by brand. Moreover we extract 9 biggest brands (with most reviews) and calculate mean ratings for each of them. "
   ]
  },
  {
   "cell_type": "code",
   "execution_count": 65,
   "metadata": {
    "collapsed": true
   },
   "outputs": [],
   "source": [
    "brand_group = data.groupby(\"brand\")\n",
    "brand_sorted=sorted(brand_group, key=lambda x: len(x[1]), reverse=True)\n",
    "bran_means={}\n",
    "significant_brands = [brand_sorted[i][0] for i in range(9)]\n",
    "for x in significant_brands: bran_means[x]=calculate_review(pd.DataFrame(brand_group.get_group(x)))[0]"
   ]
  },
  {
   "cell_type": "markdown",
   "metadata": {},
   "source": [
    "### Best and worst rated product within brand"
   ]
  },
  {
   "cell_type": "markdown",
   "metadata": {},
   "source": [
    "In the next cell we approach all reviews considering one product of specific brand and calculate mean rating values for it. Then, all products are sorted by rating. Moreover, products will also be sorted by number of reviews. Meaning that products with more reviews will be sorted before products with same mean rating but less reviews. Of course, we are more sure about mean rating if we have more reviews. Therefore, on the first place will be our best product (with biggest rating and most reviews). When we are looking for worst product things are a little bit more complicated. By empirical observation we spoted that rating for products which have only one review is very unreliable (when compared to rating of that product on amazon.com). Hence, for worse product we will take product with smallest rating but which have at least 2 reviews. If a product have only 2 reviews and both are with low rating, we can conclude with much bigger certainty that rating of that product is low. "
   ]
  },
  {
   "cell_type": "code",
   "execution_count": 54,
   "metadata": {
    "collapsed": false
   },
   "outputs": [
    {
     "name": "stdout",
     "output_type": "stream",
     "text": [
      "Logitech B000092QUR B001DPOB06\n",
      "Victorinox B000931DNG B007V4LYBC\n",
      "Nespresso B00KMSLHDY B009SN9RI6\n",
      "Lindt B002RBTWHC B00AI8P5UY\n",
      "Wenger B000PL3MEU B0073EAJDE\n",
      "Weleda B002F5FANU B00ANYAR4C\n",
      "Nestle B004BRCAWY B000W2ZFY2\n",
      "Novartis B0084CQO4C B006ZOF8HK\n",
      "Sigg B006L5Y0EA B0093JABJE\n",
      "Jura B00544EFE4 B003YFHWP4\n"
     ]
    }
   ],
   "source": [
    "#what are the best rated products of a brand\n",
    "from operator import itemgetter\n",
    "import operator\n",
    "import numpy as np\n",
    "best={}\n",
    "worst={}\n",
    "for b in significant_brands:\n",
    "    brand = pd.DataFrame(brand_group.get_group(b))\n",
    "    products = brand[\"asin\"].drop_duplicates()\n",
    "    grouped_products = brand.groupby(\"asin\")\n",
    "    reviews={}\n",
    "    for p in products:\n",
    "        product = pd.DataFrame(grouped_products.get_group(p))\n",
    "        if calculate_review(product)[0]!=0: reviews[p]=calculate_review(product)\n",
    "    brand_products = sorted(reviews.items(), key=operator.itemgetter(1), reverse=True)\n",
    "    i=1\n",
    "    while brand_products[-i][1][1]==1: i+=1\n",
    "    best[b]=brand_products[0][0]\n",
    "    worst[b]=brand_products[-i][0]\n",
    "    print(b + \" \" + brand_products[0][0] + \" \" + brand_products[-i][0])"
   ]
  },
  {
   "cell_type": "markdown",
   "metadata": {},
   "source": [
    "### Change of brands prices over time"
   ]
  },
  {
   "cell_type": "markdown",
   "metadata": {},
   "source": [
    "We want to observe how prices of one brand change over time. For each brand we extract reviews and sort them according to 'unixReviewTime'. By using datatime module we extract pairs (review_month, review_year) for all reviews for that brand and save them. "
   ]
  },
  {
   "cell_type": "code",
   "execution_count": null,
   "metadata": {
    "collapsed": true
   },
   "outputs": [],
   "source": [
    "eg_brand={}\n",
    "for brand_name in significant_brands:\n",
    "    eg_brand[brand_name] = data[data['brand'] == brand_name].copy()\n",
    "    eg_brand[brand_name].sort_values( 'unixReviewTime', axis=0,inplace = True)\n",
    "    eg_brand[brand_name]['reviewMonth'] = ((eg_brand[brand_name].unixReviewTime).map(lambda t: datetime.fromtimestamp(t).month))\n",
    "    eg_brand[brand_name]['reviewYear']  = ((eg_brand[brand_name].unixReviewTime).map(lambda t: datetime.fromtimestamp(t).year))"
   ]
  },
  {
   "cell_type": "markdown",
   "metadata": {},
   "source": [
    "Here, we have generated all necessary variables which we will use in interactive section, to generate plots of prices changes of brand over time. "
   ]
  },
  {
   "cell_type": "markdown",
   "metadata": {},
   "source": [
    "### Generate distributon of ratings for categories and brands"
   ]
  },
  {
   "cell_type": "markdown",
   "metadata": {},
   "source": [
    "In order to make more robust statistics we want to observe distributions of rating for each category. In the next cell we are creating dictionaries, where values are lists of ratings for that category (or brand)."
   ]
  },
  {
   "cell_type": "code",
   "execution_count": 57,
   "metadata": {
    "collapsed": true
   },
   "outputs": [],
   "source": [
    "all_data={}\n",
    "all_data_brand={}\n",
    "for c in significant_categories: all_data[c] = [list(pd.DataFrame(category_group.get_group(c))[\"overall\"])]\n",
    "for b in significant_brands: all_data_brand[b] = [list(pd.DataFrame(brand_group.get_group(b))[\"overall\"])]"
   ]
  },
  {
   "cell_type": "raw",
   "metadata": {},
   "source": []
  },
  {
   "cell_type": "markdown",
   "metadata": {},
   "source": [
    "Before we go to interactive section we want to highlight some more observations. By doing empirical analysis we noticed some anomalies considering our reviews and real reviews on amazon.com. We will present two of them.\n",
    "For product with \"asin\" B00ADBY92Q in our dataset we have two reviews, one of them is 1, with helpful score 18/19, other one is 5, with helpful score 0/0. Our algorithm, logicaly gives very poor mean rating to this product. However, when we checked on amazon.com, we were supprised to see that rating is 4.3. Reason is that there are currently almost 300 reviews for this product, and apparently, after the point our data was collected, a lot of people, unexpectedly, rated product very good. We tried to resolve some of similar situations and draw best conclusions out of given data. However, due to changing data we should take results with a grain of salt.  \n",
    "For product with \"asin\" B003YFHWP4 we have also calculated bad rating (one review rated it with 1, and 22/29 people found that helpful). When we wanted to check current rating of the product, we noticed that product has no reviews (\"There are no customer reviews yet\"). There is apparently some data inconsistency. "
   ]
  },
  {
   "cell_type": "markdown",
   "metadata": {},
   "source": [
    "# Interactive section"
   ]
  },
  {
   "cell_type": "markdown",
   "metadata": {},
   "source": [
    "We made interactive visualisation by using IPython.html.widgets, in order to communicate our results. By clicking in the right checkbox or choosing category or brand out of Drop-down menu user can obtain wanted stats and information. "
   ]
  },
  {
   "cell_type": "code",
   "execution_count": 66,
   "metadata": {
    "collapsed": false,
    "scrolled": false
   },
   "outputs": [
    {
     "data": {
      "image/png": "[encoded data removed]",
      "text/plain": [
       "<matplotlib.figure.Figure at 0x25b2e1bfc88>"
      ]
     },
     "metadata": {},
     "output_type": "display_data"
    },
    {
     "data": {
      "image/png": "[encoded data removed]",
      "text/plain": [
       "<matplotlib.figure.Figure at 0x25b30d2c630>"
      ]
     },
     "metadata": {},
     "output_type": "display_data"
    }
   ],
   "source": [
    "from IPython.html.widgets import interact, fixed\n",
    "import numpy as np\n",
    "import operator\n",
    "from operator import itemgetter\n",
    "#%matplotlib qt\n",
    "%matplotlib inline\n",
    "import matplotlib.pyplot as plt\n",
    "from IPython.display import Image\n",
    "from IPython.display import display\n",
    "\n",
    "def plot_rir(DEAL_WITH_CATEGORIES = False,  \n",
    "                                             category=\"Electronics\",\n",
    "                                            brands_within_category=False,\n",
    "                                             change_of_ratings_over_time=False,\n",
    "                                             compare_with_other_countries=False, \n",
    "                                            DEAL_WITH_BRANDS = False,  \n",
    "                                             brand=\"Victorinox\", show_best_and_worst_product=False,\n",
    "                                             avg_price_over_time=False\n",
    "                                            ): #s=None, length=30000, number=8, , \n",
    "    global all_data, france_means, italy_means, usa_means, germany_means, all_data_brand\n",
    "    if DEAL_WITH_CATEGORIES == True:\n",
    "          \n",
    "        if brands_within_category==False and change_of_ratings_over_time==False and compare_with_other_countries==False:\n",
    "            fig, axes = plt.subplots(nrows=1, figsize=(10, 6))\n",
    "            #axes.boxplot(all_data[category], showfliers=True)\n",
    "            #axes.set_title('box plot')\n",
    "            axes.violinplot(all_data[category], showmeans=True, showmedians=True)\n",
    "            axes.set_title('violin plot')\n",
    "            # adding horizontal grid lines\n",
    "            axes.yaxis.grid(True)\n",
    "            #ax.set_xticks([y+1 for y in range(len(all_data))])\n",
    "            axes.set_xlabel('xlabel')\n",
    "            axes.set_ylabel('rating')\n",
    "            # add x-tick labels\n",
    "            plt.setp(axes, xticks=[y+1 for y in range(1)], xticklabels=[\"category: \"+ category])\n",
    "            plt.show()\n",
    "            \n",
    "        if brands_within_category==False and change_of_ratings_over_time==False and compare_with_other_countries==False:\n",
    "            categories_names=significant_categories\n",
    "            categories_means = []\n",
    "            for x in significant_categories: categories_means.append(float(cat_means[x]))\n",
    "            pairs = [(x,y) for x,y in zip(categories_names,categories_means)]\n",
    "            pairs = sorted(pairs, key=itemgetter(1))\n",
    "            brands_names,brands_means = zip(*pairs)\n",
    "            X=range(0,len(brands_names),1)\n",
    "            brands_means=brands_means[0::1]\n",
    "            plt.figure(figsize = (8, 4))\n",
    "            plt.bar(X, brands_means, color='g', align='center', width=0.5)\n",
    "            plt.xticks(X, brands_names[0::1], rotation='vertical')    \n",
    "            plt.title(\"Ratings of Most Categories with most Reviews\")\n",
    "            plt.xlabel('Categories with most Reviews')    \n",
    "            plt.ylabel(\"Ratings\")\n",
    "            \n",
    "        if brands_within_category == True and change_of_ratings_over_time==False and compare_with_other_countries==False:\n",
    "            brands_names=[]\n",
    "            brands_means=[]\n",
    "            for x in range(len(sorted_reviews[category])): brands_names.append(sorted_reviews[category][x][0])\n",
    "            for x in range(len(sorted_reviews[category])): brands_means.append(float(sorted_reviews[category][x][1][0]))\n",
    "            pairs = [(x,y) for x,y in zip(brands_names,brands_means)]\n",
    "            pairs = sorted(pairs, key=itemgetter(1))\n",
    "            brands_names,brands_means = zip(*pairs)\n",
    "            X=range(0,len(brands_names),1)\n",
    "            brands_means=brands_means[0::1]\n",
    "            plt.figure(figsize = (8, 4))\n",
    "            plt.bar(X, brands_means, color='m', align='center', width=0.7)\n",
    "            plt.xticks(X, brands_names[0::1], rotation='vertical')    \n",
    "            plt.title(\"Ratings of Brands within Category\")\n",
    "            plt.xlabel('Brands within Category')    \n",
    "            plt.ylabel(\"Ratings\") \n",
    "            \n",
    "        if change_of_ratings_over_time==True and compare_with_other_countries==False:\n",
    "            hor_axis = []\n",
    "            for index in eg[category].groupby(['reviewYear']).mean()['unixReviewTime'].index:\n",
    "                Y = eg[category].groupby(['reviewYear']).mean()['unixReviewTime'].map(lambda t: datetime.fromtimestamp(t))[index].year\n",
    "                dt = datetime(year=Y, month=1, day=1)\n",
    "                new_year_day = time.mktime(dt.timetuple())\n",
    "                hor_axis.append(datetime.fromtimestamp(new_year_day))\n",
    "            plt.rcParams[\"figure.figsize\"] = [8,3]\n",
    "            years = mdates.YearLocator()   # every year\n",
    "            months = mdates.MonthLocator()  # every month\n",
    "            yearsFmt = mdates.DateFormatter('%Y')\n",
    "            fig, ax = plt.subplots()\n",
    "            ax.plot( eg[category].groupby(['reviewYear','reviewMonth']).mean()['unixReviewTime'].map\n",
    "                     (lambda t: datetime.fromtimestamp(t)),\n",
    "                     eg[category].groupby(['reviewYear','reviewMonth']).mean()['overall'],'y',label='Average Monthly Rating')\n",
    "            ax.plot(hor_axis, eg[category].groupby(['reviewYear']).mean()['overall'],'ro-',label='Average Annual Rating')\n",
    "            # format the ticks\n",
    "            ax.xaxis.set_major_locator(years)\n",
    "            ax.xaxis.set_major_formatter(yearsFmt)\n",
    "            ax.xaxis.set_minor_locator(months)\n",
    "            ax.grid(True)\n",
    "            plt.title((category))\n",
    "            plt.legend(loc='lower left')\n",
    "            plt.show()\n",
    "        \n",
    "        if compare_with_other_countries==True: \n",
    "            countries_names=[\"Switzerland\"]\n",
    "            countries_means=[cat_means[category]]\n",
    "            if category in france_means:\n",
    "                countries_names.append(\"France\")\n",
    "                countries_means.append(france_means[category])\n",
    "            if category in italy_means:\n",
    "                countries_names.append(\"Italy\")\n",
    "                countries_means.append(italy_means[category])\n",
    "            if category in usa_means:\n",
    "                countries_names.append(\"USA\")\n",
    "                countries_means.append(usa_means[category])\n",
    "            if category in germany_means:\n",
    "                countries_names.append(\"Germany\")\n",
    "                countries_means.append(germany_means[category])\n",
    "            pairs = [(x,y) for x,y in zip(countries_names,countries_means)]\n",
    "            pairs = sorted(pairs, key=itemgetter(1))\n",
    "            brands_names,brands_means = zip(*pairs)\n",
    "            X=range(0,len(brands_names),1)\n",
    "            brands_means=brands_means[0::1]\n",
    "            plt.figure(figsize = (8, 4))\n",
    "            plt.bar(X, brands_means, color='b', align='center', width=0.7)\n",
    "            plt.xticks(X, brands_names[0::1], rotation='vertical')    \n",
    "            plt.title(\"Average Ratings of other Countries within Category: \" + category)\n",
    "            plt.xlabel('Countries')    \n",
    "            plt.ylabel(\"Ratings\") \n",
    "            \n",
    "            \n",
    "    if DEAL_WITH_BRANDS==True:\n",
    "        if show_best_and_worst_product == False and avg_price_over_time==False:\n",
    "            fig, axes = plt.subplots(nrows=1, ncols=1, figsize=(10, 6))\n",
    "            #axes[0].boxplot(all_data_brand[brand], showfliers=True)\n",
    "            #axes[0].set_title('box plot')\n",
    "            axes.violinplot(all_data_brand[brand], showmeans=True, showmedians=True)\n",
    "            axes.set_title('violin plot')\n",
    "            # adding horizontal grid lines\n",
    "            axes.yaxis.grid(True)\n",
    "            #ax.set_xticks([y+1 for y in range(len(all_data_brand))])\n",
    "            axes.set_xlabel('xlabel')\n",
    "            axes.set_ylabel('rating')\n",
    "            # add x-tick labels\n",
    "            plt.setp(axes, xticks=[y+1 for y in range(1)], xticklabels=[\"brand: \"+ brand])\n",
    "            plt.show()\n",
    "        \n",
    "            brands_names=significant_brands\n",
    "            brands_means=[]\n",
    "            for x in significant_brands: brands_means.append(float(bran_means[x]))\n",
    "            pairs = [(x,y) for x,y in zip(brands_names,brands_means)]\n",
    "            pairs = sorted(pairs, key=itemgetter(1))\n",
    "            brands_names,brands_means = zip(*pairs)\n",
    "            X=range(0,len(brands_names),1)\n",
    "            brands_means=brands_means[0::1]\n",
    "            plt.figure(figsize = (20, 10))\n",
    "            plt.bar(X, brands_means, color='r', align='center', width=0.7)\n",
    "            plt.xticks(X, brands_names[0::1], rotation='vertical')    \n",
    "            plt.title(\"Ratings of Brands with most Reviews\")\n",
    "            plt.xlabel('Brands with most Reviews')    \n",
    "            plt.ylabel(\"Ratings\") \n",
    "        \n",
    "        url_b=\"pictures\"+'/'+brand+'/best.jpg'\n",
    "        url_w=\"pictures\"+'/'+brand+'/worst.jpg'\n",
    "            \n",
    "        if show_best_and_worst_product == True and avg_price_over_time==False:\n",
    "            i=Image(url_b, width=400,height=300)\n",
    "            print(\"\\033[4;32;48m\" + \"BEST RATED PRODUCT FROM \" + brand+ \" BRAND\" + '\\033[0m')\n",
    "            display(i)\n",
    "            pd.options.display.max_colwidth = 100\n",
    "            title = str(data[data[\"asin\"]==best[brand]][\"title\"].drop_duplicates())\n",
    "            title=title[:title.find(\",\")]\n",
    "            print(''.join([i for i in title if not i.isdigit()]))\n",
    "            i=Image(url_w, width=400,height=300)\n",
    "            print(\"\\033[4;32;48m\" + \"\\n\\nWORST RATED PRODUCT FROM \" + brand+ \" BRAND\")\n",
    "            display(i)\n",
    "            title=str(data[data[\"asin\"]==worst[brand]][\"title\"].drop_duplicates())\n",
    "            title = title[:title.find(\",\")]\n",
    "            print(''.join([i for i in title if not i.isdigit()]))\n",
    "        \n",
    "        if avg_price_over_time==True:\n",
    "            hor_axis = []\n",
    "            for index in eg_brand[brand].groupby(['reviewYear']).mean()['unixReviewTime'].index:\n",
    "                Y = eg_brand[brand].groupby(['reviewYear']).mean()['unixReviewTime'].map(lambda t: datetime.fromtimestamp(t))[index].year\n",
    "                dt = datetime(year=Y, month=1, day=1)\n",
    "                new_year_day = time.mktime(dt.timetuple())\n",
    "                hor_axis.append(datetime.fromtimestamp(new_year_day))\n",
    "            plt.rcParams[\"figure.figsize\"] = [8,3]\n",
    "            years = mdates.YearLocator()   # every year\n",
    "            months = mdates.MonthLocator()  # every month\n",
    "            yearsFmt = mdates.DateFormatter('%Y')\n",
    "            fig, ax = plt.subplots()\n",
    "            ax.plot( eg_brand[brand].groupby(['reviewYear','reviewMonth']).mean()['unixReviewTime'].map\n",
    "                     (lambda t: datetime.fromtimestamp(t)),\n",
    "                     eg_brand[brand].groupby(['reviewYear','reviewMonth']).mean()['price'],'y',label='Average Monthly Rating')\n",
    "            ax.plot(hor_axis, eg_brand[brand].groupby(['reviewYear']).mean()['price'],'ro-',label='Average Annual Rating')\n",
    "            # format the ticks\n",
    "            ax.xaxis.set_major_locator(years)\n",
    "            ax.xaxis.set_major_formatter(yearsFmt)\n",
    "            ax.xaxis.set_minor_locator(months)\n",
    "            ax.grid(True)\n",
    "            plt.title((brand))\n",
    "            plt.legend(loc='upper right')\n",
    "            plt.show()\n",
    "        \n",
    "        #input(\"Press enter to exit ;)\")\n",
    "interact(plot_rir, category=significant_categories, brand=significant_brands) #plot_rir, s=fixed(rir), length=(500, 25000, 1000), number=(1,8),"
   ]
  },
  {
   "cell_type": "code",
   "execution_count": null,
   "metadata": {
    "collapsed": true
   },
   "outputs": [],
   "source": []
  },
  {
   "cell_type": "code",
   "execution_count": null,
   "metadata": {
    "collapsed": true
   },
   "outputs": [],
   "source": []
  }
 ],
 "metadata": {
  "anaconda-cloud": {},
  "kernelspec": {
   "display_name": "Python [Root]",
   "language": "python",
   "name": "Python [Root]"
  },
  "language_info": {
   "codemirror_mode": {
    "name": "ipython",
    "version": 3
   },
   "file_extension": ".py",
   "mimetype": "text/x-python",
   "name": "python",
   "nbconvert_exporter": "python",
   "pygments_lexer": "ipython3",
   "version": "3.5.2"
  }
 },
 "nbformat": 4,
 "nbformat_minor": 0
}
