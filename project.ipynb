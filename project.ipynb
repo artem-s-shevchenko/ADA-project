{
 "cells": [
  {
   "cell_type": "code",
   "execution_count": 1,
   "metadata": {
    "collapsed": true
   },
   "outputs": [],
   "source": [
    "import os\n",
    "import pandas as pd\n",
    "import time\n",
    "from datetime import datetime\n",
    "import numpy as np\n",
    "import matplotlib.pyplot as plt\n",
    "import matplotlib.dates as mdates\n",
    "import matplotlib.cbook as cbook\n",
    "import time"
   ]
  },
  {
   "cell_type": "code",
   "execution_count": 2,
   "metadata": {
    "collapsed": false
   },
   "outputs": [],
   "source": [
    "with open(\"res.json\") as file:\n",
    "    data = pd.read_json(file)\n",
    "data.shape\n",
    "with open(\"res_france.json\") as file:\n",
    "    data_france = pd.read_json(file)\n",
    "data.shape\n",
    "with open(\"res_italy.json\") as file:\n",
    "    data_italy = pd.read_json(file)\n",
    "data.shape\n",
    "with open(\"res_usa.json\") as file:\n",
    "    data_US = pd.read_json(file)\n",
    "data.shape\n",
    "with open(\"res_germany.json\") as file:\n",
    "    data_germany = pd.read_json(file)"
   ]
  },
  {
   "cell_type": "code",
   "execution_count": 3,
   "metadata": {
    "collapsed": true
   },
   "outputs": [],
   "source": [
    "data=data[data['brand']!=\"ABB\"]\n",
    "data=data[data['brand']!=\"Callebaut\"]\n",
    "data=data[data['brand']!=\"ABB\"]\n",
    "data=data[data['brand']!=\"STMicroelectronics\"]\n",
    "data=data[(data['brand']!=\"IWC\")|((data['brand']==\"IWC\") & \\\n",
    "                    ((data[\"categories\"]!=\"AutomotivePaint, Body & TrimBodyDoors\")& \\\n",
    "                                (data[\"categories\"]!='AutomotiveTires & WheelsAccessoriesCenter Caps')& \\\n",
    "                                    (data[\"categories\"]!='AutomotiveTires & WheelsHubcaps & CoversHubcaps')))]\n",
    "data=data[(data['brand']!=\"Swatch\")|((data['brand']==\"Swatch\") & \\\n",
    "                    ((data[\"categories\"]!=\"Arts, Crafts & SewingFabric\")& \\\n",
    "                                    (data[\"categories\"]!='Arts, Crafts & SewingNeedleworkCross-StitchCounted Kits')))]\n",
    "data=data[(data['brand']!=\"Sigg\")|((data['brand']==\"Sigg\") & \\\n",
    "                                    (data[\"categories\"]!='Office ProductsOffice & School SuppliesForms, Recordkeeping & Money HandlingMoney & Rent Receipts'))]\n",
    "data=data[(data['brand']!=\"PB Swiss\")|((data['brand']==\"PB Swiss\") & \\\n",
    "                    ((data[\"categories\"]!=\"Clothing, Shoes & JewelryNovelty, Costumes & MoreNoveltyJewelryBracelets\")& \\\n",
    "                                (data[\"categories\"]!='Office ProductsOffice & School SuppliesCalendars, Planners & Personal OrganizersWall Calendars')& \\\n",
    "                                    (data[\"categories\"]!='Sports & OutdoorsAccessoriesWristbands')))]\n",
    "data=data[(data['brand']!=\"Omega\")|((data['brand']==\"Omega\") & \\\n",
    "                    ((data[\"categories\"]==\"Clothing, Shoes & JewelryGifts\")| \\\n",
    "                    (data[\"categories\"]=='Clothing, Shoes & JewelryJewelry: International Shipping Available')| \\\n",
    "                    (data[\"categories\"]=='Clothing, Shoes & JewelryLuxury Watches')| \\\n",
    "                     (data[\"categories\"]=='Clothing, Shoes & JewelryNew Arrivals')| \\\n",
    "                     (data[\"categories\"]=='Clothing, Shoes & JewelryOmega Watches')| \\\n",
    "                     (data[\"categories\"]=='Sports & OutdoorsAccessoriesSport Watches')))]"
   ]
  },
  {
   "cell_type": "code",
   "execution_count": 4,
   "metadata": {
    "collapsed": false
   },
   "outputs": [
    {
     "data": {
      "text/html": [
       "<div>\n",
       "<table border=\"1\" class=\"dataframe\">\n",
       "  <thead>\n",
       "    <tr style=\"text-align: right;\">\n",
       "      <th></th>\n",
       "      <th>asin</th>\n",
       "      <th>brand</th>\n",
       "      <th>categories</th>\n",
       "      <th>description</th>\n",
       "      <th>helpful</th>\n",
       "      <th>imUrl</th>\n",
       "      <th>overall</th>\n",
       "      <th>price</th>\n",
       "      <th>related</th>\n",
       "      <th>reviewText</th>\n",
       "      <th>reviewTime</th>\n",
       "      <th>reviewerID</th>\n",
       "      <th>reviewerName</th>\n",
       "      <th>salesRank</th>\n",
       "      <th>summary</th>\n",
       "      <th>title</th>\n",
       "      <th>unixReviewTime</th>\n",
       "    </tr>\n",
       "  </thead>\n",
       "  <tbody>\n",
       "    <tr>\n",
       "      <th>0</th>\n",
       "      <td>B0009YJ238</td>\n",
       "      <td>Nestle</td>\n",
       "      <td>[[Pet Supplies, Dogs, Treats, Cookies, Biscuit...</td>\n",
       "      <td>Busy Bone, 7 OZ, Small/Medium Dog Treat, Twist...</td>\n",
       "      <td>[0, 0]</td>\n",
       "      <td>http://ecx.images-amazon.com/images/I/31ToYepJ...</td>\n",
       "      <td>5</td>\n",
       "      <td>3.49</td>\n",
       "      <td>NaN</td>\n",
       "      <td>I adore my six-month-old dog, Midge.  She's ev...</td>\n",
       "      <td>01 22, 2007</td>\n",
       "      <td>A3MTXMDJ7JQSFO</td>\n",
       "      <td>A. Ruminski</td>\n",
       "      <td>{'Pet Supplies': 487454}</td>\n",
       "      <td>Busy bone = happy owner</td>\n",
       "      <td>BusyBone MED Dog Treat</td>\n",
       "      <td>1169424000</td>\n",
       "    </tr>\n",
       "    <tr>\n",
       "      <th>1</th>\n",
       "      <td>B00126U31C</td>\n",
       "      <td>Swatch</td>\n",
       "      <td>[[Clothing, Shoes &amp; Jewelry, New Arrivals], [C...</td>\n",
       "      <td>NaN</td>\n",
       "      <td>[0, 1]</td>\n",
       "      <td>http://ecx.images-amazon.com/images/I/51fwuvsL...</td>\n",
       "      <td>3</td>\n",
       "      <td>72.14</td>\n",
       "      <td>{'also_viewed': ['B002DQGUI0', 'B000KNE09E', '...</td>\n",
       "      <td>The watch itself is solid, however, the leathe...</td>\n",
       "      <td>12 14, 2012</td>\n",
       "      <td>AYKBRA7MKIPAV</td>\n",
       "      <td>G.Jackson</td>\n",
       "      <td>{'Watches': 95452}</td>\n",
       "      <td>Swatch watch</td>\n",
       "      <td>Swatch Men's STYNS421 Wild Roar Brown Dial Watch</td>\n",
       "      <td>1355443200</td>\n",
       "    </tr>\n",
       "    <tr>\n",
       "      <th>2</th>\n",
       "      <td>B002HHGF5I</td>\n",
       "      <td>Tissot</td>\n",
       "      <td>[[Sports &amp; Outdoors, Accessories, Sport Watche...</td>\n",
       "      <td>NaN</td>\n",
       "      <td>[4, 5]</td>\n",
       "      <td>http://ecx.images-amazon.com/images/I/516lmovC...</td>\n",
       "      <td>5</td>\n",
       "      <td>846.00</td>\n",
       "      <td>{'also_viewed': ['B0029SJ3ZE', 'B001CBC2I4', '...</td>\n",
       "      <td>incredible watch.  super light yet rugged.  i ...</td>\n",
       "      <td>03 7, 2011</td>\n",
       "      <td>A3MBOY1IA8PS85</td>\n",
       "      <td>M. Klein \"Gras\"</td>\n",
       "      <td>{'Watches': 27798}</td>\n",
       "      <td>great watch</td>\n",
       "      <td>Tissot Men's T0134204405700 T-Touch Expert Pil...</td>\n",
       "      <td>1299456000</td>\n",
       "    </tr>\n",
       "    <tr>\n",
       "      <th>3</th>\n",
       "      <td>B002HHGF5I</td>\n",
       "      <td>Tissot</td>\n",
       "      <td>[[Sports &amp; Outdoors, Accessories, Sport Watche...</td>\n",
       "      <td>NaN</td>\n",
       "      <td>[8, 11]</td>\n",
       "      <td>http://ecx.images-amazon.com/images/I/516lmovC...</td>\n",
       "      <td>5</td>\n",
       "      <td>846.00</td>\n",
       "      <td>{'also_viewed': ['B0029SJ3ZE', 'B001CBC2I4', '...</td>\n",
       "      <td>I have been a watch junkie for some years but ...</td>\n",
       "      <td>02 27, 2010</td>\n",
       "      <td>A1SE5JXA03WBDT</td>\n",
       "      <td>Mem Ber \"me\"</td>\n",
       "      <td>{'Watches': 27798}</td>\n",
       "      <td>the best watch in my collection</td>\n",
       "      <td>Tissot Men's T0134204405700 T-Touch Expert Pil...</td>\n",
       "      <td>1267228800</td>\n",
       "    </tr>\n",
       "    <tr>\n",
       "      <th>4</th>\n",
       "      <td>B002HHGF5I</td>\n",
       "      <td>Tissot</td>\n",
       "      <td>[[Sports &amp; Outdoors, Accessories, Sport Watche...</td>\n",
       "      <td>NaN</td>\n",
       "      <td>[0, 2]</td>\n",
       "      <td>http://ecx.images-amazon.com/images/I/516lmovC...</td>\n",
       "      <td>5</td>\n",
       "      <td>846.00</td>\n",
       "      <td>{'also_viewed': ['B0029SJ3ZE', 'B001CBC2I4', '...</td>\n",
       "      <td>just what I wanted when I ordered this watch. ...</td>\n",
       "      <td>01 7, 2014</td>\n",
       "      <td>A4ACF44TDCIZK</td>\n",
       "      <td>MELANIE DAVID</td>\n",
       "      <td>{'Watches': 27798}</td>\n",
       "      <td>Tissot Men's T0134204405700 T-Touch Expert Pil...</td>\n",
       "      <td>Tissot Men's T0134204405700 T-Touch Expert Pil...</td>\n",
       "      <td>1389052800</td>\n",
       "    </tr>\n",
       "  </tbody>\n",
       "</table>\n",
       "</div>"
      ],
      "text/plain": [
       "         asin   brand                                         categories  \\\n",
       "0  B0009YJ238  Nestle  [[Pet Supplies, Dogs, Treats, Cookies, Biscuit...   \n",
       "1  B00126U31C  Swatch  [[Clothing, Shoes & Jewelry, New Arrivals], [C...   \n",
       "2  B002HHGF5I  Tissot  [[Sports & Outdoors, Accessories, Sport Watche...   \n",
       "3  B002HHGF5I  Tissot  [[Sports & Outdoors, Accessories, Sport Watche...   \n",
       "4  B002HHGF5I  Tissot  [[Sports & Outdoors, Accessories, Sport Watche...   \n",
       "\n",
       "                                         description  helpful  \\\n",
       "0  Busy Bone, 7 OZ, Small/Medium Dog Treat, Twist...   [0, 0]   \n",
       "1                                                NaN   [0, 1]   \n",
       "2                                                NaN   [4, 5]   \n",
       "3                                                NaN  [8, 11]   \n",
       "4                                                NaN   [0, 2]   \n",
       "\n",
       "                                               imUrl  overall   price  \\\n",
       "0  http://ecx.images-amazon.com/images/I/31ToYepJ...        5    3.49   \n",
       "1  http://ecx.images-amazon.com/images/I/51fwuvsL...        3   72.14   \n",
       "2  http://ecx.images-amazon.com/images/I/516lmovC...        5  846.00   \n",
       "3  http://ecx.images-amazon.com/images/I/516lmovC...        5  846.00   \n",
       "4  http://ecx.images-amazon.com/images/I/516lmovC...        5  846.00   \n",
       "\n",
       "                                             related  \\\n",
       "0                                                NaN   \n",
       "1  {'also_viewed': ['B002DQGUI0', 'B000KNE09E', '...   \n",
       "2  {'also_viewed': ['B0029SJ3ZE', 'B001CBC2I4', '...   \n",
       "3  {'also_viewed': ['B0029SJ3ZE', 'B001CBC2I4', '...   \n",
       "4  {'also_viewed': ['B0029SJ3ZE', 'B001CBC2I4', '...   \n",
       "\n",
       "                                          reviewText   reviewTime  \\\n",
       "0  I adore my six-month-old dog, Midge.  She's ev...  01 22, 2007   \n",
       "1  The watch itself is solid, however, the leathe...  12 14, 2012   \n",
       "2  incredible watch.  super light yet rugged.  i ...   03 7, 2011   \n",
       "3  I have been a watch junkie for some years but ...  02 27, 2010   \n",
       "4  just what I wanted when I ordered this watch. ...   01 7, 2014   \n",
       "\n",
       "       reviewerID     reviewerName                 salesRank  \\\n",
       "0  A3MTXMDJ7JQSFO      A. Ruminski  {'Pet Supplies': 487454}   \n",
       "1   AYKBRA7MKIPAV        G.Jackson        {'Watches': 95452}   \n",
       "2  A3MBOY1IA8PS85  M. Klein \"Gras\"        {'Watches': 27798}   \n",
       "3  A1SE5JXA03WBDT     Mem Ber \"me\"        {'Watches': 27798}   \n",
       "4   A4ACF44TDCIZK    MELANIE DAVID        {'Watches': 27798}   \n",
       "\n",
       "                                             summary  \\\n",
       "0                            Busy bone = happy owner   \n",
       "1                                       Swatch watch   \n",
       "2                                        great watch   \n",
       "3                    the best watch in my collection   \n",
       "4  Tissot Men's T0134204405700 T-Touch Expert Pil...   \n",
       "\n",
       "                                               title  unixReviewTime  \n",
       "0                             BusyBone MED Dog Treat      1169424000  \n",
       "1   Swatch Men's STYNS421 Wild Roar Brown Dial Watch      1355443200  \n",
       "2  Tissot Men's T0134204405700 T-Touch Expert Pil...      1299456000  \n",
       "3  Tissot Men's T0134204405700 T-Touch Expert Pil...      1267228800  \n",
       "4  Tissot Men's T0134204405700 T-Touch Expert Pil...      1389052800  "
      ]
     },
     "execution_count": 4,
     "metadata": {},
     "output_type": "execute_result"
    }
   ],
   "source": [
    "data.head(5)"
   ]
  },
  {
   "cell_type": "markdown",
   "metadata": {},
   "source": [
    "If we inspect some entries, it can be seen that the category column for some of the rows contains more than one entries. See example below"
   ]
  },
  {
   "cell_type": "code",
   "execution_count": 5,
   "metadata": {
    "collapsed": false
   },
   "outputs": [
    {
     "data": {
      "text/plain": [
       "[['Clothing, Shoes & Jewelry', 'New Arrivals'],\n",
       " ['Clothing, Shoes & Jewelry', 'Jewelry: International Shipping Available'],\n",
       " ['Clothing, Shoes & Jewelry', 'Fashion Watches'],\n",
       " ['Clothing, Shoes & Jewelry', 'Available for International Shipping'],\n",
       " ['Clothing, Shoes & Jewelry', 'Swatch Watches'],\n",
       " ['Clothing, Shoes & Jewelry', 'Men', 'Watches', 'Wrist Watches']]"
      ]
     },
     "execution_count": 5,
     "metadata": {},
     "output_type": "execute_result"
    }
   ],
   "source": [
    "data['categories'][1]"
   ]
  },
  {
   "cell_type": "markdown",
   "metadata": {},
   "source": [
    "We figure out the number of such entries (that we call invalid) in our dataset"
   ]
  },
  {
   "cell_type": "code",
   "execution_count": null,
   "metadata": {
    "collapsed": false
   },
   "outputs": [
    {
     "name": "stdout",
     "output_type": "stream",
     "text": [
      "True     199104\n",
      "False      8288\n",
      "Name: flag, dtype: int64\n",
      "Number of invalid entries:  8288 \n",
      " Percentage of total entries that are invalid:  3.99629686777\n"
     ]
    }
   ],
   "source": [
    "data['flag'] = data['categories'].apply(lambda x: False if len(x)>1 else True)\n",
    "print(data.flag.value_counts())\n",
    "print('Number of invalid entries: ', data.flag.value_counts()[0] ,'\\n',\n",
    "      'Percentage of total entries that are invalid: ',\n",
    "      100*data.flag.value_counts()[0] / data.flag.value_counts().sum())"
   ]
  },
  {
   "cell_type": "markdown",
   "metadata": {},
   "source": [
    "We intend to perform the category-wise analysis of our reviews and since these entries (that are slightly complicated to handle due to multiple values for category attribute) happen to be only 4% of the entire dataset, we drop them."
   ]
  },
  {
   "cell_type": "code",
   "execution_count": null,
   "metadata": {
    "collapsed": true
   },
   "outputs": [],
   "source": [
    "import numpy as np\n",
    "def delete_more_categories(data):\n",
    "    data['flag'] = data['categories'].apply(lambda x: False if len(x)>1 else True)\n",
    "    return data[data['flag']]\n",
    "data = delete_more_categories(data)\n",
    "data_france = delete_more_categories(data_france)\n",
    "data_italy = delete_more_categories(data_italy)\n",
    "data_US = delete_more_categories(data_US)\n",
    "data_germany = delete_more_categories(data_germany)"
   ]
  },
  {
   "cell_type": "code",
   "execution_count": null,
   "metadata": {
    "collapsed": false
   },
   "outputs": [],
   "source": [
    "print(data['categories'][0])"
   ]
  },
  {
   "cell_type": "markdown",
   "metadata": {},
   "source": [
    "Our objective now is to determine a level in the hierarchy of categories where we should stop, so that the different number of categories we get are manageable for analysis and for interpretable results. \n",
    "\n",
    "For example the categories attribute for the 154-th instance printed above is a 5 member list -  \n",
    "['Home & Kitchen', 'Kitchen & Dining', 'Small Appliances', 'Juicers', 'Masticating Juicers']\n",
    "\n",
    "If we decide to stop at a hierarchy level of 1, we would clip this list to simply ['Home & Kitchen'] or if we stop at the second level we'll end up with ['Home & Kitchen', 'Kitchen & Dining'] for this instance. A good choice of what level to stop at will be guided by the number of unique category attributes we have to deal with for the given level. To begin with, we stop at a level of 2 to realize that we get 103 unique categories which are too much for proper interpretability, hence we go up the level and check for 1."
   ]
  },
  {
   "cell_type": "code",
   "execution_count": null,
   "metadata": {
    "collapsed": false
   },
   "outputs": [],
   "source": [
    "df_test = data.copy()\n",
    "df_test['categories_clipped'] = df_test['categories'].apply(lambda x: (x[0][0] + ', ' + x[0][1]) if len(x[0])>2 \n",
    "                                                            else x[0][0] )\n",
    "print('Number of unique categories after clipping:', len(df_test.categories_clipped.unique()),\n",
    "      '\\n',df_test.categories_clipped.value_counts())"
   ]
  },
  {
   "cell_type": "code",
   "execution_count": null,
   "metadata": {
    "collapsed": false
   },
   "outputs": [],
   "source": [
    "def cut_layers(data): \n",
    "    data['categories'] = data['categories'].apply(lambda x: x[0][0])\n",
    "cut_layers(data)\n",
    "cut_layers(data_france)\n",
    "cut_layers(data_italy)\n",
    "cut_layers(data_US)\n",
    "cut_layers(data_germany)"
   ]
  },
  {
   "cell_type": "code",
   "execution_count": null,
   "metadata": {
    "collapsed": false
   },
   "outputs": [],
   "source": [
    "print(data['categories'][0])"
   ]
  },
  {
   "cell_type": "markdown",
   "metadata": {},
   "source": [
    "As shown in the cell below, if we simply clip to level 1, we get 25 unique categories where 12 of them have less than 1000 reviews. In our further steps we stick to the only 13 categories that have atleast 1000 reviews, so that our claims are not based on small number of reviews."
   ]
  },
  {
   "cell_type": "code",
   "execution_count": null,
   "metadata": {
    "collapsed": false
   },
   "outputs": [],
   "source": [
    "print('Number of unique categories after clipping:', len(data.categories.unique()),\n",
    "      '\\n','Number of unique categories with more than 1000 reviews:',\n",
    "      (data.categories.value_counts() > 1000).value_counts()[1],\n",
    "      '\\n',data.categories.value_counts())"
   ]
  },
  {
   "cell_type": "markdown",
   "metadata": {},
   "source": [
    "We intend to analyze the variations of ratings for these different categories over periods of time since we also access to the time of the review. Let's begin with printing the average ratings obtained for these categories."
   ]
  },
  {
   "cell_type": "code",
   "execution_count": null,
   "metadata": {
    "collapsed": false
   },
   "outputs": [],
   "source": [
    "import datetime as dt\n",
    "print(dt.datetime.utcfromtimestamp(df.unixReviewTime[0]).strftime(\"%Y/%m/%d %H:%M\"),\n",
    "dt.datetime.utcfromtimestamp(df.unixReviewTime[213872]).strftime(\"%Y/%m/%d %H:%M\"),\n",
    "dt.datetime.utcfromtimestamp(df.unixReviewTime[160]).strftime(\"%Y/%m/%d %H:%M\"))"
   ]
  },
  {
   "cell_type": "markdown",
   "metadata": {},
   "source": [
    "As it turns out, all the unixtime values transform to '00:00' hours with the date matching to the column 'reviewTime', unfortunately the 'unixReviewTime' does not provide additional information for the time of the day when the review was made."
   ]
  },
  {
   "cell_type": "markdown",
   "metadata": {},
   "source": [
    "We now play with one of the category ('Home & Kitchen') and analyze the variations of rating over time for this category."
   ]
  },
  {
   "cell_type": "raw",
   "metadata": {},
   "source": [
    "Electronics                  137816\n",
    "Home & Kitchen                16935\n",
    "Sports & Outdoors             13772\n",
    "Video Games                   10569\n",
    "Grocery & Gourmet Food         8375\n",
    "Health & Personal Care         3722\n",
    "Cell Phones & Accessories      2807\n",
    "Beauty                         1921\n",
    "Clothing, Shoes & Jewelry      1766\n",
    "Tools & Home Improvement       1567\n",
    "Office Products                1561\n",
    "Pet Supplies                   1247\n",
    "Computers                      1039"
   ]
  },
  {
   "cell_type": "code",
   "execution_count": null,
   "metadata": {
    "collapsed": true
   },
   "outputs": [],
   "source": [
    "categories=list(data[\"categories\"].drop_duplicates())\n",
    "category_group = data.groupby(\"categories\")\n",
    "brand_group = data.groupby(\"brand\")\n",
    "france_grouped = data_france.groupby(\"categories\")\n",
    "italy_grouped = data_italy.groupby(\"categories\")\n",
    "usa_grouped = data_US.groupby(\"categories\")\n",
    "germany_grouped = data_germany.groupby(\"categories\")\n",
    "categories_france=list(data_france[\"categories\"].drop_duplicates())\n",
    "categories_italy=list(data_italy[\"categories\"].drop_duplicates())\n",
    "categories_usa=list(data_US[\"categories\"].drop_duplicates())\n",
    "categories_germany=list(data_germany[\"categories\"].drop_duplicates())"
   ]
  },
  {
   "cell_type": "code",
   "execution_count": null,
   "metadata": {
    "collapsed": false
   },
   "outputs": [],
   "source": [
    "category_sorted=sorted(category_group, key=lambda x: len(x[1]), reverse=True)\n",
    "brand_sorted=sorted(brand_group, key=lambda x: len(x[1]), reverse=True)\n",
    "cat_means={}\n",
    "bran_means={}\n",
    "significant_categories = [category_sorted[i][0] for i in range(13)]\n",
    "significant_brands = [brand_sorted[i][0] for i in range(10)]"
   ]
  },
  {
   "cell_type": "code",
   "execution_count": null,
   "metadata": {
    "collapsed": false
   },
   "outputs": [],
   "source": [
    "eg={}\n",
    "for category_name in significant_categories:\n",
    "    eg[category_name] = data[data['categories'] == category_name].copy()\n",
    "    eg[category_name].sort_values( 'unixReviewTime', axis=0,inplace = True)\n",
    "    eg[category_name]['reviewMonth'] = ((eg[category_name].unixReviewTime).map(lambda t: datetime.fromtimestamp(t).month))\n",
    "    eg[category_name]['reviewYear']  = ((eg[category_name].unixReviewTime).map(lambda t: datetime.fromtimestamp(t).year))"
   ]
  },
  {
   "cell_type": "code",
   "execution_count": null,
   "metadata": {
    "collapsed": true
   },
   "outputs": [],
   "source": [
    "eg_brand={}\n",
    "for brand_name in significant_brands:\n",
    "    eg_brand[brand_name] = data[data['brand'] == brand_name].copy()\n",
    "    eg_brand[brand_name].sort_values( 'unixReviewTime', axis=0,inplace = True)\n",
    "    eg_brand[brand_name]['reviewMonth'] = ((eg_brand[brand_name].unixReviewTime).map(lambda t: datetime.fromtimestamp(t).month))\n",
    "    eg_brand[brand_name]['reviewYear']  = ((eg_brand[brand_name].unixReviewTime).map(lambda t: datetime.fromtimestamp(t).year))"
   ]
  },
  {
   "cell_type": "code",
   "execution_count": null,
   "metadata": {
    "collapsed": true
   },
   "outputs": [],
   "source": [
    "#Mean rating of each brand\n",
    "#make weighted statistic of data - take overall rate according to helpfulness (how helpful is rating and comment)\n",
    "def calculate_review(data_frame):\n",
    "    s=[]\n",
    "    overall=[]\n",
    "    overall_count=0\n",
    "    for index, row in data_frame.iterrows():\n",
    "        if row[\"helpful\"][1]!=0: #and row[\"helpful\"][1]>=3:\n",
    "            if row[\"helpful\"][0]!=0:\n",
    "                overall.append(row[\"overall\"]*(row[\"helpful\"][0]/row[\"helpful\"][1]))\n",
    "                overall_count+=row[\"helpful\"][0]/row[\"helpful\"][1]\n",
    "            else: \n",
    "                overall.append(row[\"overall\"]*(2/(2+row[\"helpful\"][1])))\n",
    "                overall_count+=(2/(2+row[\"helpful\"][1]))\n",
    "        else: \n",
    "            overall.append(row[\"overall\"])\n",
    "            overall_count+=1\n",
    "    if overall_count!=0: return sum(overall)/overall_count, overall_count\n",
    "    else: return 0, overall_count"
   ]
  },
  {
   "cell_type": "code",
   "execution_count": null,
   "metadata": {
    "collapsed": false,
    "scrolled": true
   },
   "outputs": [],
   "source": [
    "#what are the most and the least popular brands within each category\n",
    "from operator import itemgetter\n",
    "import operator\n",
    "import numpy as np\n",
    "def popular_brands(cat, data):\n",
    "    categories = data[\"categories\"].drop_duplicates()\n",
    "    grouped_cat = data.groupby(\"categories\")\n",
    "    category = pd.DataFrame(grouped_cat.get_group(cat))\n",
    "    brands = category[\"brand\"].drop_duplicates()\n",
    "    grouped_brands = category.groupby(\"brand\")\n",
    "    reviews={}\n",
    "    for b in brands:\n",
    "        brand = pd.DataFrame(grouped_brands.get_group(b))\n",
    "        if calculate_review(product)[0]!=0: reviews[b]=calculate_review(brand)\n",
    "    return sorted(reviews.items(), key=operator.itemgetter(1), reverse=True)\n",
    "#popular_brands(\"Electronics\", data)"
   ]
  },
  {
   "cell_type": "code",
   "execution_count": null,
   "metadata": {
    "collapsed": false
   },
   "outputs": [],
   "source": [
    "list(category_group.groups.keys())"
   ]
  },
  {
   "cell_type": "code",
   "execution_count": null,
   "metadata": {
    "collapsed": true
   },
   "outputs": [],
   "source": [
    "for x in significant_categories: cat_means[x]=calculate_review(pd.DataFrame(category_group.get_group(x)))[0]\n",
    "for x in significant_brands: bran_means[x]=calculate_review(pd.DataFrame(brand_group.get_group(x)))[0]"
   ]
  },
  {
   "cell_type": "code",
   "execution_count": null,
   "metadata": {
    "collapsed": false
   },
   "outputs": [],
   "source": [
    "#what are the best rated products of a brand\n",
    "from operator import itemgetter\n",
    "import operator\n",
    "import numpy as np\n",
    "best={}\n",
    "worst={}\n",
    "for b in significant_brands:\n",
    "    brand = pd.DataFrame(brand_group.get_group(b))\n",
    "    products = brand[\"asin\"].drop_duplicates()\n",
    "    grouped_products = brand.groupby(\"asin\")\n",
    "    reviews={}\n",
    "    for p in products:\n",
    "        product = pd.DataFrame(grouped_products.get_group(p))\n",
    "        if calculate_review(product)[0]!=0: reviews[p]=calculate_review(product)\n",
    "    brand_products = sorted(reviews.items(), key=operator.itemgetter(1), reverse=True)\n",
    "    i=1\n",
    "    while brand_products[-i][1][1]==1: i+=1\n",
    "    best[b]=brand_products[0][0]\n",
    "    worst[b]=brand_products[-i][0]\n",
    "    print(b + \" \" + brand_products[0][0] + \" \" + brand_products[-i][0])"
   ]
  },
  {
   "cell_type": "code",
   "execution_count": null,
   "metadata": {
    "collapsed": true
   },
   "outputs": [],
   "source": [
    "sorted_reviews={}\n",
    "all_data={}\n",
    "all_data_brand={}\n",
    "for c in significant_categories: sorted_reviews[c] = popular_brands(c, data)\n",
    "for c in significant_categories: all_data[c] = [list(pd.DataFrame(category_group.get_group(c))[\"overall\"])]\n",
    "for b in significant_brands: all_data_brand[b] = [list(pd.DataFrame(brand_group.get_group(b))[\"overall\"])]"
   ]
  },
  {
   "cell_type": "code",
   "execution_count": null,
   "metadata": {
    "collapsed": false
   },
   "outputs": [],
   "source": [
    "france_means={}\n",
    "italy_means={}\n",
    "usa_means={}\n",
    "germany_means={}\n",
    "for category in significant_categories:\n",
    "    if category in categories_france: \n",
    "        france_means[category]=calculate_review(pd.DataFrame(france_grouped.get_group(category)))[0]\n",
    "for category in significant_categories:\n",
    "    if category in categories_italy: \n",
    "        italy_means[category]=calculate_review(pd.DataFrame(italy_grouped.get_group(category)))[0]\n",
    "for category in significant_categories:\n",
    "    if category in categories_usa: \n",
    "        usa_means[category]=calculate_review(pd.DataFrame(usa_grouped.get_group(category)))[0]\n",
    "for category in significant_categories:\n",
    "    if category in categories_germany: \n",
    "        germany_means[category]=calculate_review(pd.DataFrame(germany_grouped.get_group(category)))[0]"
   ]
  },
  {
   "cell_type": "markdown",
   "metadata": {},
   "source": [
    "#slucaj 18/19 obavezno napomenuti B00ADBY92Q\n",
    "#22/29 1 B003YFHWP4"
   ]
  },
  {
   "cell_type": "code",
   "execution_count": null,
   "metadata": {
    "collapsed": false,
    "scrolled": false
   },
   "outputs": [],
   "source": [
    "from IPython.html.widgets import interact, fixed\n",
    "import numpy as np\n",
    "import operator\n",
    "from operator import itemgetter\n",
    "#%matplotlib qt\n",
    "%matplotlib inline\n",
    "import matplotlib.pyplot as plt\n",
    "from IPython.display import Image\n",
    "from IPython.display import display\n",
    "\n",
    "def plot_rir(DEAL_WITH_CATEGORIES = False,  \n",
    "                                             category=\"Electronics\",\n",
    "                                            brands_within_category=False,\n",
    "                                             change_of_ratings_over_time=False,\n",
    "                                             compare_with_other_countries=False, \n",
    "                                            DEAL_WITH_BRANDS = False,  \n",
    "                                             brand=\"Victorinox\", show_best_and_worst_product=False,\n",
    "                                             avg_price_over_time=False\n",
    "                                            ): #s=None, length=30000, number=8, , \n",
    "    global all_data, france_means, italy_means, usa_means, germany_means, all_data_brand\n",
    "    if DEAL_WITH_CATEGORIES == True:\n",
    "        \n",
    "        if brands_within_category==False:\n",
    "            categories_names=significant_categories\n",
    "            categories_means = []\n",
    "            for x in significant_categories: categories_means.append(float(cat_means[x]))\n",
    "            pairs = [(x,y) for x,y in zip(categories_names,categories_means)]\n",
    "            pairs = sorted(pairs, key=itemgetter(1))\n",
    "            brands_names,brands_means = zip(*pairs)\n",
    "            X=range(0,len(brands_names),1)\n",
    "            brands_means=brands_means[0::1]\n",
    "            plt.figure(figsize = (8, 4))\n",
    "            plt.bar(X, brands_means, color='g', align='center', width=0.5)\n",
    "            plt.xticks(X, brands_names[0::1], rotation='vertical')    \n",
    "            plt.title(\"Ratings of Most Categories with most Reviews\")\n",
    "            plt.xlabel('Categories with most Reviews')    \n",
    "            plt.ylabel(\"Ratings\")  \n",
    "        \n",
    "        if brands_within_category==False:\n",
    "            fig, axes = plt.subplots(nrows=1, figsize=(10, 6))\n",
    "            #axes.boxplot(all_data[category], showfliers=True)\n",
    "            #axes.set_title('box plot')\n",
    "            axes.violinplot(all_data[category], showmeans=True, showmedians=True)\n",
    "            axes.set_title('violin plot')\n",
    "            # adding horizontal grid lines\n",
    "            axes.yaxis.grid(True)\n",
    "            #ax.set_xticks([y+1 for y in range(len(all_data))])\n",
    "            axes.set_xlabel('xlabel')\n",
    "            axes.set_ylabel('ylabel')\n",
    "            # add x-tick labels\n",
    "            plt.setp(axes, xticks=[y+1 for y in range(1)], xticklabels=[\"category: \"+ category])\n",
    "            plt.show()\n",
    "            \n",
    "        if brands_within_category == True:\n",
    "            brands_names=[]\n",
    "            brands_means=[]\n",
    "            for x in range(len(sorted_reviews[category])): brands_names.append(sorted_reviews[category][x][0])\n",
    "            for x in range(len(sorted_reviews[category])): brands_means.append(float(sorted_reviews[category][x][1][0]))\n",
    "            pairs = [(x,y) for x,y in zip(brands_names,brands_means)]\n",
    "            pairs = sorted(pairs, key=itemgetter(1))\n",
    "            brands_names,brands_means = zip(*pairs)\n",
    "            X=range(0,len(brands_names),1)\n",
    "            brands_means=brands_means[0::1]\n",
    "            plt.figure(figsize = (8, 4))\n",
    "            plt.bar(X, brands_means, color='m', align='center', width=0.7)\n",
    "            plt.xticks(X, brands_names[0::1], rotation='vertical')    \n",
    "            plt.title(\"Ratings of Brands within Category\")\n",
    "            plt.xlabel('Brands within Category')    \n",
    "            plt.ylabel(\"Ratings\")    \n",
    "        if change_of_ratings_over_time==True:\n",
    "            hor_axis = []\n",
    "            for index in eg[category].groupby(['reviewYear']).mean()['unixReviewTime'].index:\n",
    "                Y = eg[category].groupby(['reviewYear']).mean()['unixReviewTime'].map(lambda t: datetime.fromtimestamp(t))[index].year\n",
    "                dt = datetime(year=Y, month=1, day=1)\n",
    "                new_year_day = time.mktime(dt.timetuple())\n",
    "                hor_axis.append(datetime.fromtimestamp(new_year_day))\n",
    "            plt.rcParams[\"figure.figsize\"] = [8,3]\n",
    "            years = mdates.YearLocator()   # every year\n",
    "            months = mdates.MonthLocator()  # every month\n",
    "            yearsFmt = mdates.DateFormatter('%Y')\n",
    "            fig, ax = plt.subplots()\n",
    "            ax.plot( eg[category].groupby(['reviewYear','reviewMonth']).mean()['unixReviewTime'].map\n",
    "                     (lambda t: datetime.fromtimestamp(t)),\n",
    "                     eg[category].groupby(['reviewYear','reviewMonth']).mean()['overall'],'y',label='Average Monthly Rating')\n",
    "            ax.plot(hor_axis, eg[category].groupby(['reviewYear']).mean()['overall'],'ro-',label='Average Annual Rating')\n",
    "            # format the ticks\n",
    "            ax.xaxis.set_major_locator(years)\n",
    "            ax.xaxis.set_major_formatter(yearsFmt)\n",
    "            ax.xaxis.set_minor_locator(months)\n",
    "            ax.grid(True)\n",
    "            plt.title((category))\n",
    "            plt.legend(loc='lower left')\n",
    "            plt.show()\n",
    "        \n",
    "        if compare_with_other_countries==True: \n",
    "            countries_names=[\"Switzerland\"]\n",
    "            countries_means=[cat_means[category]]\n",
    "            if category in france_means:\n",
    "                countries_names.append(\"France\")\n",
    "                countries_means.append(france_means[category])\n",
    "            if category in italy_means:\n",
    "                countries_names.append(\"Italy\")\n",
    "                countries_means.append(italy_means[category])\n",
    "            if category in usa_means:\n",
    "                countries_names.append(\"USA\")\n",
    "                countries_means.append(usa_means[category])\n",
    "            if category in germany_means:\n",
    "                countries_names.append(\"Germany\")\n",
    "                countries_means.append(germany_means[category])\n",
    "            pairs = [(x,y) for x,y in zip(countries_names,countries_means)]\n",
    "            pairs = sorted(pairs, key=itemgetter(1))\n",
    "            brands_names,brands_means = zip(*pairs)\n",
    "            X=range(0,len(brands_names),1)\n",
    "            brands_means=brands_means[0::1]\n",
    "            plt.figure(figsize = (8, 4))\n",
    "            plt.bar(X, brands_means, color='b', align='center', width=0.7)\n",
    "            plt.xticks(X, brands_names[0::1], rotation='vertical')    \n",
    "            plt.title(\"Average Ratings of other Countries within Category: \" + category)\n",
    "            plt.xlabel('Countries')    \n",
    "            plt.ylabel(\"Ratings\") \n",
    "            \n",
    "            \n",
    "    if DEAL_WITH_BRANDS==True:\n",
    "        brands_names=significant_brands\n",
    "        brands_means=[]\n",
    "        for x in significant_brands: brands_means.append(float(bran_means[x]))\n",
    "        pairs = [(x,y) for x,y in zip(brands_names,brands_means)]\n",
    "        pairs = sorted(pairs, key=itemgetter(1))\n",
    "        brands_names,brands_means = zip(*pairs)\n",
    "        X=range(0,len(brands_names),1)\n",
    "        brands_means=brands_means[0::1]\n",
    "        plt.figure(figsize = (8, 4))\n",
    "        plt.bar(X, brands_means, color='r', align='center', width=0.7)\n",
    "        plt.xticks(X, brands_names[0::1], rotation='vertical')    \n",
    "        plt.title(\"Ratings of Brands with most Reviews\")\n",
    "        plt.xlabel('Brands with most Reviews')    \n",
    "        plt.ylabel(\"Ratings\") \n",
    "        \n",
    "        url_b='./'+brand+'/best.jpg'\n",
    "        url_w='./'+brand+'/worst.jpg'\n",
    "            \n",
    "        fig, axes = plt.subplots(nrows=1, ncols=1, figsize=(10, 6))\n",
    "        #axes[0].boxplot(all_data_brand[brand], showfliers=True)\n",
    "        #axes[0].set_title('box plot')\n",
    "        axes.violinplot(all_data_brand[brand], showmeans=True, showmedians=True)\n",
    "        axes.set_title('violin plot')\n",
    "        # adding horizontal grid lines\n",
    "        axes.yaxis.grid(True)\n",
    "        #ax.set_xticks([y+1 for y in range(len(all_data_brand))])\n",
    "        axes.set_xlabel('xlabel')\n",
    "        axes.set_ylabel('ylabel')\n",
    "        # add x-tick labels\n",
    "        plt.setp(axes, xticks=[y+1 for y in range(1)], xticklabels=[\"brand: \"+ brand])\n",
    "        plt.show()\n",
    "            \n",
    "        if show_best_and_worst_product == True:\n",
    "            i=Image(url_b, width=400,height=300)\n",
    "            display(i)\n",
    "            pd.options.display.max_colwidth = 100\n",
    "            title = str(data[data[\"asin\"]==best[brand]][\"title\"].drop_duplicates())\n",
    "            title=title[:title.find(\",\")]\n",
    "            print(''.join([i for i in title if not i.isdigit()]))\n",
    "            i=Image(url_w, width=400,height=300)\n",
    "            display(i)\n",
    "            title=str(data[data[\"asin\"]==worst[brand]][\"title\"].drop_duplicates())\n",
    "            title = title[:title.find(\",\")]\n",
    "            print(''.join([i for i in title if not i.isdigit()]))\n",
    "        \n",
    "        if avg_price_over_time==True:\n",
    "            hor_axis = []\n",
    "            for index in eg_brand[brand].groupby(['reviewYear']).mean()['unixReviewTime'].index:\n",
    "                Y = eg_brand[brand].groupby(['reviewYear']).mean()['unixReviewTime'].map(lambda t: datetime.fromtimestamp(t))[index].year\n",
    "                dt = datetime(year=Y, month=1, day=1)\n",
    "                new_year_day = time.mktime(dt.timetuple())\n",
    "                hor_axis.append(datetime.fromtimestamp(new_year_day))\n",
    "            plt.rcParams[\"figure.figsize\"] = [8,3]\n",
    "            years = mdates.YearLocator()   # every year\n",
    "            months = mdates.MonthLocator()  # every month\n",
    "            yearsFmt = mdates.DateFormatter('%Y')\n",
    "            fig, ax = plt.subplots()\n",
    "            ax.plot( eg_brand[brand].groupby(['reviewYear','reviewMonth']).mean()['unixReviewTime'].map\n",
    "                     (lambda t: datetime.fromtimestamp(t)),\n",
    "                     eg_brand[brand].groupby(['reviewYear','reviewMonth']).mean()['price'],'y',label='Average Monthly Rating')\n",
    "            ax.plot(hor_axis, eg_brand[brand].groupby(['reviewYear']).mean()['price'],'ro-',label='Average Annual Rating')\n",
    "            # format the ticks\n",
    "            ax.xaxis.set_major_locator(years)\n",
    "            ax.xaxis.set_major_formatter(yearsFmt)\n",
    "            ax.xaxis.set_minor_locator(months)\n",
    "            ax.grid(True)\n",
    "            plt.title((brand))\n",
    "            plt.legend(loc='upper right')\n",
    "            plt.show()\n",
    "        \n",
    "        #input(\"Press enter to exit ;)\")\n",
    "interact(plot_rir, category=significant_categories, brand=significant_brands) #plot_rir, s=fixed(rir), length=(500, 25000, 1000), number=(1,8),"
   ]
  },
  {
   "cell_type": "code",
   "execution_count": null,
   "metadata": {
    "collapsed": true
   },
   "outputs": [],
   "source": []
  }
 ],
 "metadata": {
  "anaconda-cloud": {},
  "kernelspec": {
   "display_name": "Python [Root]",
   "language": "python",
   "name": "Python [Root]"
  },
  "language_info": {
   "codemirror_mode": {
    "name": "ipython",
    "version": 3
   },
   "file_extension": ".py",
   "mimetype": "text/x-python",
   "name": "python",
   "nbconvert_exporter": "python",
   "pygments_lexer": "ipython3",
   "version": "3.5.2"
  }
 },
 "nbformat": 4,
 "nbformat_minor": 0
}
